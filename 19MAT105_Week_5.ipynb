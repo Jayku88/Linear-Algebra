{
  "nbformat": 4,
  "nbformat_minor": 0,
  "metadata": {
    "colab": {
      "name": "19MAT105-Week-5.ipynb",
      "provenance": [],
      "collapsed_sections": [
        "Xuk_omcWRcjQ",
        "qi3GEvXPRiWq",
        "a0aDy75xWmz_",
        "CM9uaYzGIrG8",
        "K94uCQVk-KMo",
        "EwipzyTu_MG1"
      ],
      "authorship_tag": "ABX9TyPb2fzsClmdegEXgvGU336F",
      "include_colab_link": true
    },
    "kernelspec": {
      "name": "python3",
      "display_name": "Python 3"
    },
    "language_info": {
      "name": "python"
    }
  },
  "cells": [
    {
      "cell_type": "markdown",
      "metadata": {
        "id": "view-in-github",
        "colab_type": "text"
      },
      "source": [
        "<a href=\"https://colab.research.google.com/github/Jayku88/Linear-Algebra/blob/main/19MAT105_Week_5.ipynb\" target=\"_parent\"><img src=\"https://colab.research.google.com/assets/colab-badge.svg\" alt=\"Open In Colab\"/></a>"
      ]
    },
    {
      "cell_type": "markdown",
      "source": [
        "#Determinants"
      ],
      "metadata": {
        "id": "aXQF6M6AMDmC"
      }
    },
    {
      "cell_type": "markdown",
      "source": [
        "##Square Matrix\n",
        "\n",
        "A matrix with $n$ rows and $n$ columns is called a square matrix of order $n$"
      ],
      "metadata": {
        "id": "i25r6V2uMEWa"
      }
    },
    {
      "cell_type": "markdown",
      "source": [
        "##Determinants\n",
        "A single value that contains many information related to a square matrix. If $A$ is the matrix, then determinant is denoted by $det(A)$\n",
        "\n",
        "**Properties**\n",
        "\n",
        "1.   $det(I)=1$\n",
        "2.   If you exchange two rows of a matrix, you reverse the sign of its determinant from positive to negative or from negative to positive\n",
        "3.   If we multiply one row of a matrix by $t$, the determinant is multiplied by $t$\n",
        "4.   If two rows of a matrix are equal, its determinant is zero.\n",
        "5.   If matrix has a row that is all zeros, its determinant is zero.\n",
        "6.   The determinant of a **triangular** matrix is the product of the diagonal entries\n",
        "7.   $det(A) = 0$ exactly when $A$ is **singular**\n",
        "8.   $det(AB) = det(A)det(B)$\n",
        "9.   $det(A^T)=det(A)$\n",
        "\n",
        "\n",
        "\n",
        "\n"
      ],
      "metadata": {
        "id": "RN7DsXBCMEZK"
      }
    },
    {
      "cell_type": "markdown",
      "source": [
        "### Property 1"
      ],
      "metadata": {
        "id": "Xuk_omcWRcjQ"
      }
    },
    {
      "cell_type": "code",
      "source": [
        "from sympy import *\n",
        "A = Matrix([[1,0,0], [0,1,0], [0,0,1]])\n",
        "print(\"Determinant of A is\",det(A))\n",
        "A"
      ],
      "metadata": {
        "id": "nyqVo-IlRh7Z",
        "colab": {
          "base_uri": "https://localhost:8080/"
        },
        "outputId": "1f5b3dd6-a6a0-4491-a1ac-4ad48f600de6"
      },
      "execution_count": null,
      "outputs": [
        {
          "output_type": "stream",
          "name": "stdout",
          "text": [
            "Determinant of A is 1\n"
          ]
        },
        {
          "output_type": "execute_result",
          "data": {
            "text/latex": "$\\displaystyle \\left[\\begin{matrix}1 & 0 & 0\\\\0 & 1 & 0\\\\0 & 0 & 1\\end{matrix}\\right]$",
            "text/plain": [
              "Matrix([\n",
              "[1, 0, 0],\n",
              "[0, 1, 0],\n",
              "[0, 0, 1]])"
            ]
          },
          "metadata": {},
          "execution_count": 96
        }
      ]
    },
    {
      "cell_type": "markdown",
      "source": [
        "### Property 2"
      ],
      "metadata": {
        "id": "qi3GEvXPRiWq"
      }
    },
    {
      "cell_type": "code",
      "source": [
        "from sympy import *\n",
        "A = Matrix([[0,1,0], [1,0,0], [0,0,1]])\n",
        "print(\"Determinant of A is\",det(A))\n",
        "A"
      ],
      "metadata": {
        "id": "JawJsZIgRj3k",
        "colab": {
          "base_uri": "https://localhost:8080/"
        },
        "outputId": "ffac5f77-133c-4b37-8acf-526c234b7907"
      },
      "execution_count": null,
      "outputs": [
        {
          "output_type": "stream",
          "name": "stdout",
          "text": [
            "Determinant of A is -1\n"
          ]
        },
        {
          "output_type": "execute_result",
          "data": {
            "text/latex": "$\\displaystyle \\left[\\begin{matrix}0 & 1 & 0\\\\1 & 0 & 0\\\\0 & 0 & 1\\end{matrix}\\right]$",
            "text/plain": [
              "Matrix([\n",
              "[0, 1, 0],\n",
              "[1, 0, 0],\n",
              "[0, 0, 1]])"
            ]
          },
          "metadata": {},
          "execution_count": 97
        }
      ]
    },
    {
      "cell_type": "markdown",
      "source": [
        "### Property 3"
      ],
      "metadata": {
        "id": "kOTJkHHERkuc"
      }
    },
    {
      "cell_type": "code",
      "source": [
        "from sympy import *\n",
        "A = Matrix([[3,0,0], [0,1,0], [0,0,1]])\n",
        "print(\"Determinant of A is\",det(A))\n",
        "A"
      ],
      "metadata": {
        "id": "tkTJyHd0RmRn",
        "colab": {
          "base_uri": "https://localhost:8080/",
          "height": 96
        },
        "outputId": "53ce966f-d092-4251-f016-7f8f041b879e"
      },
      "execution_count": null,
      "outputs": [
        {
          "output_type": "stream",
          "name": "stdout",
          "text": [
            "Determinant of A is 3\n"
          ]
        },
        {
          "output_type": "execute_result",
          "data": {
            "text/latex": "$\\displaystyle \\left[\\begin{matrix}3 & 0 & 0\\\\0 & 1 & 0\\\\0 & 0 & 1\\end{matrix}\\right]$",
            "text/plain": [
              "Matrix([\n",
              "[3, 0, 0],\n",
              "[0, 1, 0],\n",
              "[0, 0, 1]])"
            ]
          },
          "metadata": {},
          "execution_count": 98
        }
      ]
    },
    {
      "cell_type": "markdown",
      "source": [
        "### Property 4"
      ],
      "metadata": {
        "id": "ArIenBWDRnfT"
      }
    },
    {
      "cell_type": "code",
      "source": [
        "from sympy import *\n",
        "A = Matrix([[1,0,0], [1,0,0], [0,0,1]])\n",
        "print(\"Determinant of A is\",det(A))\n",
        "A"
      ],
      "metadata": {
        "id": "2OfFtmExRoZN",
        "colab": {
          "base_uri": "https://localhost:8080/",
          "height": 96
        },
        "outputId": "82ae0705-300a-4483-e29e-ddefd1089019"
      },
      "execution_count": null,
      "outputs": [
        {
          "output_type": "stream",
          "name": "stdout",
          "text": [
            "Determinant of A is 0\n"
          ]
        },
        {
          "output_type": "execute_result",
          "data": {
            "text/latex": "$\\displaystyle \\left[\\begin{matrix}1 & 0 & 0\\\\1 & 0 & 0\\\\0 & 0 & 1\\end{matrix}\\right]$",
            "text/plain": [
              "Matrix([\n",
              "[1, 0, 0],\n",
              "[1, 0, 0],\n",
              "[0, 0, 1]])"
            ]
          },
          "metadata": {},
          "execution_count": 99
        }
      ]
    },
    {
      "cell_type": "markdown",
      "source": [
        "### Property 5"
      ],
      "metadata": {
        "id": "qjKifkKNRo4E"
      }
    },
    {
      "cell_type": "code",
      "source": [
        "from sympy import *\n",
        "A = Matrix([[1,0,0], [0,1,0], [0,0,0]])\n",
        "print(\"Determinant of A is\",det(A))\n",
        "A"
      ],
      "metadata": {
        "id": "qcaGlqXCRp1N",
        "colab": {
          "base_uri": "https://localhost:8080/",
          "height": 96
        },
        "outputId": "675db11e-4ad6-4a35-8185-9df6712de282"
      },
      "execution_count": null,
      "outputs": [
        {
          "output_type": "stream",
          "name": "stdout",
          "text": [
            "Determinant of A is 0\n"
          ]
        },
        {
          "output_type": "execute_result",
          "data": {
            "text/latex": "$\\displaystyle \\left[\\begin{matrix}1 & 0 & 0\\\\0 & 1 & 0\\\\0 & 0 & 0\\end{matrix}\\right]$",
            "text/plain": [
              "Matrix([\n",
              "[1, 0, 0],\n",
              "[0, 1, 0],\n",
              "[0, 0, 0]])"
            ]
          },
          "metadata": {},
          "execution_count": 100
        }
      ]
    },
    {
      "cell_type": "markdown",
      "source": [
        "### Property 6"
      ],
      "metadata": {
        "id": "xO724MhORqQ8"
      }
    },
    {
      "cell_type": "code",
      "source": [
        "from sympy import *\n",
        "A = Matrix([[2,0,0], [0,3,0], [0,0,3]]) #Diagonal Matrix\n",
        "print(\"Determinant of A is\",det(A))\n",
        "A"
      ],
      "metadata": {
        "id": "7AHoDhheRrIt",
        "colab": {
          "base_uri": "https://localhost:8080/",
          "height": 96
        },
        "outputId": "986ee47c-c963-4650-fb8b-d7df77b4eede"
      },
      "execution_count": null,
      "outputs": [
        {
          "output_type": "stream",
          "name": "stdout",
          "text": [
            "Determinant of A is 18\n"
          ]
        },
        {
          "output_type": "execute_result",
          "data": {
            "text/latex": "$\\displaystyle \\left[\\begin{matrix}2 & 0 & 0\\\\0 & 3 & 0\\\\0 & 0 & 3\\end{matrix}\\right]$",
            "text/plain": [
              "Matrix([\n",
              "[2, 0, 0],\n",
              "[0, 3, 0],\n",
              "[0, 0, 3]])"
            ]
          },
          "metadata": {},
          "execution_count": 101
        }
      ]
    },
    {
      "cell_type": "code",
      "source": [
        "from sympy import *\n",
        "A = Matrix([[2,1,2], [0,3,9], [0,0,3]]) #Upper Triangular Matrix\n",
        "print(\"Determinant of A is\",det(A))\n",
        "A"
      ],
      "metadata": {
        "id": "bvZvmbRyS4O4",
        "colab": {
          "base_uri": "https://localhost:8080/",
          "height": 96
        },
        "outputId": "0c57c1cf-243a-4ebf-e3d0-cbd221bdc17a"
      },
      "execution_count": null,
      "outputs": [
        {
          "output_type": "stream",
          "name": "stdout",
          "text": [
            "Determinant of A is 18\n"
          ]
        },
        {
          "output_type": "execute_result",
          "data": {
            "text/latex": "$\\displaystyle \\left[\\begin{matrix}2 & 1 & 2\\\\0 & 3 & 9\\\\0 & 0 & 3\\end{matrix}\\right]$",
            "text/plain": [
              "Matrix([\n",
              "[2, 1, 2],\n",
              "[0, 3, 9],\n",
              "[0, 0, 3]])"
            ]
          },
          "metadata": {},
          "execution_count": 102
        }
      ]
    },
    {
      "cell_type": "code",
      "source": [
        "from sympy import *\n",
        "A = Matrix([[2,0,0], [6,3,0], [7,9,3]]) #Lower Triangular Matrix\n",
        "print(\"Determinant of A is\",det(A))\n",
        "A"
      ],
      "metadata": {
        "id": "vlxKBz4-S9r5",
        "colab": {
          "base_uri": "https://localhost:8080/",
          "height": 96
        },
        "outputId": "d24bc141-9ce7-485e-af14-fc3196b7ebbf"
      },
      "execution_count": null,
      "outputs": [
        {
          "output_type": "stream",
          "name": "stdout",
          "text": [
            "Determinant of A is 18\n"
          ]
        },
        {
          "output_type": "execute_result",
          "data": {
            "text/latex": "$\\displaystyle \\left[\\begin{matrix}2 & 0 & 0\\\\6 & 3 & 0\\\\7 & 9 & 3\\end{matrix}\\right]$",
            "text/plain": [
              "Matrix([\n",
              "[2, 0, 0],\n",
              "[6, 3, 0],\n",
              "[7, 9, 3]])"
            ]
          },
          "metadata": {},
          "execution_count": 103
        }
      ]
    },
    {
      "cell_type": "markdown",
      "source": [
        "### Property 7"
      ],
      "metadata": {
        "id": "HpHDohGrRrlM"
      }
    },
    {
      "cell_type": "code",
      "source": [
        "from sympy import *\n",
        "A = Matrix([[1,2,3], [2,4,6], [7,7,7]]) #Inverse does not exists if determinant is zero\n",
        "print(\"Determinant of A is\",det(A))\n",
        "A"
      ],
      "metadata": {
        "id": "MkpLebjqRsv8",
        "colab": {
          "base_uri": "https://localhost:8080/",
          "height": 96
        },
        "outputId": "43098d7f-1d8a-4c7e-cbbe-851f6cf5ea1f"
      },
      "execution_count": null,
      "outputs": [
        {
          "output_type": "stream",
          "name": "stdout",
          "text": [
            "Determinant of A is 0\n"
          ]
        },
        {
          "output_type": "execute_result",
          "data": {
            "text/latex": "$\\displaystyle \\left[\\begin{matrix}1 & 2 & 3\\\\2 & 4 & 6\\\\7 & 7 & 7\\end{matrix}\\right]$",
            "text/plain": [
              "Matrix([\n",
              "[1, 2, 3],\n",
              "[2, 4, 6],\n",
              "[7, 7, 7]])"
            ]
          },
          "metadata": {},
          "execution_count": 104
        }
      ]
    },
    {
      "cell_type": "markdown",
      "source": [
        "### Property 8"
      ],
      "metadata": {
        "id": "oylYRAnKRtEs"
      }
    },
    {
      "cell_type": "code",
      "source": [
        "from sympy import *\n",
        "A = Matrix([[2,1,2], [0,3,9], [0,0,3]]) \n",
        "print(\"Determinant of A is\",det(A))\n",
        "B = Matrix([[2,0,0], [6,3,0], [7,9,3]]) \n",
        "print(\"Determinant of B is\",det(B))\n",
        "C=A*B\n",
        "print(\"Determinant of AB is\",det(C))"
      ],
      "metadata": {
        "id": "0Qh3qoJ-Rt71",
        "colab": {
          "base_uri": "https://localhost:8080/"
        },
        "outputId": "542e5679-1b58-4778-d1fb-84022b167c82"
      },
      "execution_count": null,
      "outputs": [
        {
          "output_type": "stream",
          "name": "stdout",
          "text": [
            "Determinant of A is 18\n",
            "Determinant of B is 18\n",
            "Determinant of AB is 324\n"
          ]
        }
      ]
    },
    {
      "cell_type": "markdown",
      "source": [
        "### Property 9"
      ],
      "metadata": {
        "id": "x3LUPk92RuSk"
      }
    },
    {
      "cell_type": "code",
      "source": [
        "from sympy import *\n",
        "A = Matrix([[24,21,6], [81,90,27], [21,27,9]]) \n",
        "print(\"Determinant of A is\",det(A))\n",
        "C=A.transpose()\n",
        "print(\"Determinant of transpose of A is\",det(C))"
      ],
      "metadata": {
        "id": "V1wE0f5ZRvO_",
        "colab": {
          "base_uri": "https://localhost:8080/"
        },
        "outputId": "4bea6dd1-e9e0-4170-90ec-78853b78865d"
      },
      "execution_count": null,
      "outputs": [
        {
          "output_type": "stream",
          "name": "stdout",
          "text": [
            "Determinant of A is 324\n",
            "Determinant of transpose of A is 324\n"
          ]
        }
      ]
    },
    {
      "cell_type": "markdown",
      "source": [
        "###Finding Inverse"
      ],
      "metadata": {
        "id": "UVgFbXzXII5u"
      }
    },
    {
      "cell_type": "markdown",
      "source": [
        "If $A$ is an invertible matrix, then\n",
        "$$A^{-1}=\\frac{adj(A)}{det(A)}$$\n",
        "$A$ is said to be invertible or non-singular if $det(A)\\neq0$"
      ],
      "metadata": {
        "id": "4SNUbTKbJTpc"
      }
    },
    {
      "cell_type": "markdown",
      "source": [
        "Find inverse of following matrix\n",
        "$$\\begin{bmatrix}3&2&-1\\\\1&6&3\\\\2&-4&0\\end{bmatrix}$$"
      ],
      "metadata": {
        "id": "MK7yP7jWNsri"
      }
    },
    {
      "cell_type": "code",
      "source": [
        "from sympy import *\n",
        "M = Matrix([[3,2,-1], [1,6,3], [2,-4,0]])\n",
        "M.inv()"
      ],
      "metadata": {
        "id": "RuBnzUdaOCny",
        "colab": {
          "base_uri": "https://localhost:8080/",
          "height": 79
        },
        "outputId": "56fe1717-d4b2-4086-9ceb-945296e9c401"
      },
      "execution_count": null,
      "outputs": [
        {
          "output_type": "execute_result",
          "data": {
            "text/latex": "$\\displaystyle \\left[\\begin{matrix}\\frac{3}{16} & \\frac{1}{16} & \\frac{3}{16}\\\\\\frac{3}{32} & \\frac{1}{32} & - \\frac{5}{32}\\\\- \\frac{1}{4} & \\frac{1}{4} & \\frac{1}{4}\\end{matrix}\\right]$",
            "text/plain": [
              "Matrix([\n",
              "[3/16, 1/16,  3/16],\n",
              "[3/32, 1/32, -5/32],\n",
              "[-1/4,  1/4,   1/4]])"
            ]
          },
          "metadata": {},
          "execution_count": 107
        }
      ]
    },
    {
      "cell_type": "markdown",
      "source": [
        "###Cramer's Rule"
      ],
      "metadata": {
        "id": "ETqLq9uFIJJd"
      }
    },
    {
      "cell_type": "markdown",
      "source": [
        "If $Ax=b$ is a system of $n$ linear equations in $n$ unknowns such that $det(A)\\neq0$, then the system has a unique solution. This solution is, $$x_1=\\frac{det(A_1)}{det(A)},x_2=\\frac{det(A_2)}{det(A)}.....x_n=\\frac{det(A_n)}{det(A)}$$ where $A_j$ is the matrix obtained by replacing the entries in the $j'th$ column of $A$ by the entries in the matrix $$b=\\begin{bmatrix}\n",
        "b_1\\\\\n",
        "b_2\\\\\n",
        "..\\\\\n",
        "..\\\\\n",
        "b_n\n",
        "\\end{bmatrix}$$"
      ],
      "metadata": {
        "id": "DnABKehsKLvE"
      }
    },
    {
      "cell_type": "markdown",
      "source": [
        "Solve the following linear system using **Cramer's rule**\n",
        "$$x_1+2x_3=6$$\n",
        "$$-3x_1+4x_2+6x_3=30$$\n",
        "$$-x_1-2x_2+3x_3=8$$"
      ],
      "metadata": {
        "id": "Okm2CBihOVWR"
      }
    },
    {
      "cell_type": "code",
      "source": [
        "from sympy import *\n",
        "A = Matrix([[1,0,2], [-3,4,6], [-1,-2,3]])\n",
        "print(\"Determinant of A is\",det(A))\n",
        "A1 = Matrix([[6,0,2], [30,4,6], [8,-2,3]])\n",
        "print(\"Determinant of A1 is\",det(A1))\n",
        "A2 = Matrix([[1,6,2], [-3,30,6], [-1,8,3]])\n",
        "print(\"Determinant of A2 is\",det(A2))\n",
        "A3 = Matrix([[1,0,6], [-3,4,30], [-1,-2,8]])\n",
        "print(\"Determinant of A3 is\",det(A3))\n",
        "print(\"x1 = \",det(A1)/det(A))\n",
        "print(\"x2 = \",det(A2)/det(A))\n",
        "print(\"x3 = \",det(A3)/det(A))\n"
      ],
      "metadata": {
        "id": "rR0SJaNkOy-Q",
        "colab": {
          "base_uri": "https://localhost:8080/"
        },
        "outputId": "cbf46161-2246-404c-d791-8a27755d59a0"
      },
      "execution_count": null,
      "outputs": [
        {
          "output_type": "stream",
          "name": "stdout",
          "text": [
            "Determinant of A is 44\n",
            "Determinant of A1 is -40\n",
            "Determinant of A2 is 72\n",
            "Determinant of A3 is 152\n",
            "x1 =  -10/11\n",
            "x2 =  18/11\n",
            "x3 =  38/11\n"
          ]
        }
      ]
    },
    {
      "cell_type": "markdown",
      "source": [
        "#Eigen Values and Eigen Vectors"
      ],
      "metadata": {
        "id": "ho_XFeYjIkV8"
      }
    },
    {
      "cell_type": "markdown",
      "source": [
        "https://www.youtube.com/watch?v=PFDu9oVAE-g\n",
        "\n",
        "For interpretation refer"
      ],
      "metadata": {
        "id": "aKOc2yDQRwi2"
      }
    },
    {
      "cell_type": "markdown",
      "source": [
        "A matrix $A$ acts on vectors $x$ like a function does, with input $x$ and output $Ax$. Eigenvectors are vectors for which $Ax$ is parallel to $x$. In other words:\n",
        "$$Ax = \\lambda x$$\n",
        "In this equation, $x$ is an eigenvector of $A$ and $\\lambda$ is an eigenvalue of $A$. \n",
        "\n",
        "**Equivalent Statements**\n",
        "\n",
        "If $A$ is an $n\\times n$ matrix, then following statements are equivalent\n",
        "\n",
        "1.   $A$ is **invertible**\n",
        "2.   $Ax=0$ has only **trivial** solution\n",
        "3.   The **reduced row echelon form** of $A$ is $I_n$\n",
        "4.   $Ax=b$ is **consistent** for every $n \\times 1$ matrix $b$\n",
        "5.   $det(A) \\neq 0$\n",
        "6.   The column vectors are **linearly independent**\n",
        "7.   The row vectors are **linearly independent**\n",
        "8.   The column vectors of $A$ **span** $R^n$\n",
        "9.   The row vectors of $A$ **span** $R^n$\n",
        "10.  The column vectors of $A$ form a **basis** for $R^n$\n",
        "11.  The row vectors of $A$ form a **basis** for $R^n$\n",
        "12.  $A$ has **rank** $n$\n",
        "13.  **Dimension of column space** is $n$\n",
        "14.  **Dimension of null space** is $0$\n",
        "15.  $\\lambda =0$ is not an eigen value of $A$\n",
        "\n"
      ],
      "metadata": {
        "id": "WrVJAUouTIL-"
      }
    },
    {
      "cell_type": "markdown",
      "source": [
        "Find Eigen values and Eigen vectors of\n",
        "$$\\begin{bmatrix}0&0&-2\\\\1&2&1\\\\1&0&3 \\end{bmatrix}$$\n",
        "After getting the eigen values check relations between sum of eigen values, product of eigen values, determinant of matrix, trace of matrix"
      ],
      "metadata": {
        "id": "MDy68_8wVq7i"
      }
    },
    {
      "cell_type": "code",
      "source": [
        "from sympy import *\n",
        "M = Matrix([[0,0,-2],[1,2,1],[1,0,3]])\n",
        "M.eigenvals()"
      ],
      "metadata": {
        "id": "gt4jWmAtg-ev",
        "colab": {
          "base_uri": "https://localhost:8080/"
        },
        "outputId": "260e9355-984c-43cd-fb56-0187ac1bd460"
      },
      "execution_count": null,
      "outputs": [
        {
          "output_type": "execute_result",
          "data": {
            "text/plain": [
              "{1: 1, 2: 2}"
            ]
          },
          "metadata": {},
          "execution_count": 109
        }
      ]
    },
    {
      "cell_type": "code",
      "source": [
        "M.eigenvects()"
      ],
      "metadata": {
        "id": "aW_rCswfhIug",
        "colab": {
          "base_uri": "https://localhost:8080/"
        },
        "outputId": "cef15a7e-cfe5-4a84-f037-7f1b3277b630"
      },
      "execution_count": null,
      "outputs": [
        {
          "output_type": "execute_result",
          "data": {
            "text/plain": [
              "[(1, 1, [Matrix([\n",
              "   [-2],\n",
              "   [ 1],\n",
              "   [ 1]])]), (2, 2, [Matrix([\n",
              "   [0],\n",
              "   [1],\n",
              "   [0]]), Matrix([\n",
              "   [-1],\n",
              "   [ 0],\n",
              "   [ 1]])])]"
            ]
          },
          "metadata": {},
          "execution_count": 110
        }
      ]
    },
    {
      "cell_type": "code",
      "source": [
        "from sympy import *\n",
        "M = Matrix([[1,0,0],[1,2,0],[-3,5,2]])\n",
        "M.eigenvals()"
      ],
      "metadata": {
        "id": "k_u9-l0qhS3I",
        "colab": {
          "base_uri": "https://localhost:8080/"
        },
        "outputId": "aa1d9427-de37-4f42-ebab-e3453639e7f7"
      },
      "execution_count": null,
      "outputs": [
        {
          "output_type": "execute_result",
          "data": {
            "text/plain": [
              "{1: 1, 2: 2}"
            ]
          },
          "metadata": {},
          "execution_count": 111
        }
      ]
    },
    {
      "cell_type": "code",
      "source": [
        "M.eigenvects()"
      ],
      "metadata": {
        "id": "mK4L7LvPhUG4",
        "colab": {
          "base_uri": "https://localhost:8080/"
        },
        "outputId": "147456aa-efdc-4062-9d3c-c6daf69a9385"
      },
      "execution_count": null,
      "outputs": [
        {
          "output_type": "execute_result",
          "data": {
            "text/plain": [
              "[(1, 1, [Matrix([\n",
              "   [ 1/8],\n",
              "   [-1/8],\n",
              "   [   1]])]), (2, 2, [Matrix([\n",
              "   [0],\n",
              "   [0],\n",
              "   [1]])])]"
            ]
          },
          "metadata": {},
          "execution_count": 112
        }
      ]
    },
    {
      "cell_type": "markdown",
      "source": [
        "##Diagonalization"
      ],
      "metadata": {
        "id": "a0aDy75xWmz_"
      }
    },
    {
      "cell_type": "markdown",
      "source": [
        "**Diagonalization Problem**\n",
        "\n",
        "Given an $n \\times n$ matrix $A$, does there exist an invertible matrix $P$ such that $P^{-1}AP$ is diagonal?\n",
        "\n",
        "or\n",
        "\n",
        "Given an $n \\times n$ matrix, does $A$ have $n$ linearly independent eigenvectors?\n",
        "\n",
        "**Procedure**\n",
        "\n",
        "\n",
        "1.   Confirm that the matrix is actually diagonalizable by finding $n$ linearly independent eigenvectors. One way to do this is by finding a basis for each eigenspace and merging these basis vectors in to a single set $S$. If this set has fewer than $n$ vectors, then the matrix is not diagonalizable\n",
        "2.   Form the matrix $P=\\begin{bmatrix}p_1&p_2& ...& p_n\\end{bmatrix}$ that has the vectors in $S$ as its column vectors\n",
        "3.   The matrix $P^{-1}AP$ will be diagonal and have the eigen values $\\lambda _1,\\lambda _2,..,\\lambda _n$ corresponding to the eigenvectors $p_1,p_2,...p_n$ as its successive diagonal entries\n",
        "\n",
        "**Note**\n",
        "\n",
        "\n",
        "1.   If $v_1,v_2,...v_k$ are eigenvectors of a matrix $A$ corresponding to distinct eigen values, then $\\{v_1,v_2,...v_k\\}$ is a linearly independent set\n",
        "2.   If a $n \\times n$ matrix $A$ has $n$ distinct eigenvalues, then $A$ is diagonalizable\n",
        "\n",
        "\n",
        "\n",
        "Diagonal matrices are relatively easy to compute with, and similar matrices share many properties, so diagonalizable matrices are well-suited for computation. In particular, many applications involve computing large powers of a matrix, which is easy if the matrix is diagonal. But if $A = PDP^{-1}$,then $A^n = PD^nP^{-1}$"
      ],
      "metadata": {
        "id": "T3MutD3mWtke"
      }
    },
    {
      "cell_type": "code",
      "source": [
        "from sympy import *\n",
        "M = Matrix([[0,0,-2],[1,2,1],[1,0,3]])\n",
        "P,D=M.diagonalize()"
      ],
      "metadata": {
        "id": "EIG4gOH7gEEU"
      },
      "execution_count": null,
      "outputs": []
    },
    {
      "cell_type": "code",
      "source": [
        "P"
      ],
      "metadata": {
        "colab": {
          "base_uri": "https://localhost:8080/",
          "height": 79
        },
        "id": "vGH6iakQgcKG",
        "outputId": "4dd4de62-c066-49f9-8827-7de96d28a674"
      },
      "execution_count": null,
      "outputs": [
        {
          "output_type": "execute_result",
          "data": {
            "text/latex": "$\\displaystyle \\left[\\begin{matrix}-2 & 0 & -1\\\\1 & 1 & 0\\\\1 & 0 & 1\\end{matrix}\\right]$",
            "text/plain": [
              "Matrix([\n",
              "[-2, 0, -1],\n",
              "[ 1, 1,  0],\n",
              "[ 1, 0,  1]])"
            ]
          },
          "metadata": {},
          "execution_count": 114
        }
      ]
    },
    {
      "cell_type": "code",
      "source": [
        "D"
      ],
      "metadata": {
        "id": "JQ1eJdPagc_t",
        "colab": {
          "base_uri": "https://localhost:8080/",
          "height": 79
        },
        "outputId": "d49cf87f-b154-4c41-8158-0c557b699aa2"
      },
      "execution_count": null,
      "outputs": [
        {
          "output_type": "execute_result",
          "data": {
            "text/latex": "$\\displaystyle \\left[\\begin{matrix}1 & 0 & 0\\\\0 & 2 & 0\\\\0 & 0 & 2\\end{matrix}\\right]$",
            "text/plain": [
              "Matrix([\n",
              "[1, 0, 0],\n",
              "[0, 2, 0],\n",
              "[0, 0, 2]])"
            ]
          },
          "metadata": {},
          "execution_count": 115
        }
      ]
    },
    {
      "cell_type": "code",
      "source": [
        "P**-1"
      ],
      "metadata": {
        "id": "LvW7qhitgi5G",
        "colab": {
          "base_uri": "https://localhost:8080/",
          "height": 79
        },
        "outputId": "ccc9560e-2e2b-4816-b615-62204a7caf22"
      },
      "execution_count": null,
      "outputs": [
        {
          "output_type": "execute_result",
          "data": {
            "text/latex": "$\\displaystyle \\left[\\begin{matrix}-1 & 0 & -1\\\\1 & 1 & 1\\\\1 & 0 & 2\\end{matrix}\\right]$",
            "text/plain": [
              "Matrix([\n",
              "[-1, 0, -1],\n",
              "[ 1, 1,  1],\n",
              "[ 1, 0,  2]])"
            ]
          },
          "metadata": {},
          "execution_count": 116
        }
      ]
    },
    {
      "cell_type": "code",
      "source": [
        "P * D * P**-1"
      ],
      "metadata": {
        "colab": {
          "base_uri": "https://localhost:8080/",
          "height": 79
        },
        "id": "Wm47KLlEQwgH",
        "outputId": "2cea7a68-8150-4225-f2ff-68250fa8d8e7"
      },
      "execution_count": null,
      "outputs": [
        {
          "output_type": "execute_result",
          "data": {
            "text/latex": "$\\displaystyle \\left[\\begin{matrix}0 & 0 & -2\\\\1 & 2 & 1\\\\1 & 0 & 3\\end{matrix}\\right]$",
            "text/plain": [
              "Matrix([\n",
              "[0, 0, -2],\n",
              "[1, 2,  1],\n",
              "[1, 0,  3]])"
            ]
          },
          "metadata": {},
          "execution_count": 117
        }
      ]
    },
    {
      "cell_type": "code",
      "source": [
        "M**13"
      ],
      "metadata": {
        "colab": {
          "base_uri": "https://localhost:8080/",
          "height": 79
        },
        "id": "k0p8L0tJhfI8",
        "outputId": "c7ea6621-0d9d-4a66-d87d-db6b8df5c10c"
      },
      "execution_count": null,
      "outputs": [
        {
          "output_type": "execute_result",
          "data": {
            "text/latex": "$\\displaystyle \\left[\\begin{matrix}-8190 & 0 & -16382\\\\8191 & 8192 & 8191\\\\8191 & 0 & 16383\\end{matrix}\\right]$",
            "text/plain": [
              "Matrix([\n",
              "[-8190,    0, -16382],\n",
              "[ 8191, 8192,   8191],\n",
              "[ 8191,    0,  16383]])"
            ]
          },
          "metadata": {},
          "execution_count": 118
        }
      ]
    },
    {
      "cell_type": "code",
      "source": [
        "P*D**13*P**-1"
      ],
      "metadata": {
        "colab": {
          "base_uri": "https://localhost:8080/",
          "height": 79
        },
        "id": "XvrlXTiOhnpX",
        "outputId": "62cf0861-07dd-467d-ae17-057139a9f1a1"
      },
      "execution_count": null,
      "outputs": [
        {
          "output_type": "execute_result",
          "data": {
            "text/latex": "$\\displaystyle \\left[\\begin{matrix}-8190 & 0 & -16382\\\\8191 & 8192 & 8191\\\\8191 & 0 & 16383\\end{matrix}\\right]$",
            "text/plain": [
              "Matrix([\n",
              "[-8190,    0, -16382],\n",
              "[ 8191, 8192,   8191],\n",
              "[ 8191,    0,  16383]])"
            ]
          },
          "metadata": {},
          "execution_count": 119
        }
      ]
    },
    {
      "cell_type": "code",
      "source": [
        "from sympy import *\n",
        "M = Matrix([[1,0,0],[1,2,0],[-3,5,2]]) #Matrix is not diagonalizable\n",
        "M.eigenvects()"
      ],
      "metadata": {
        "colab": {
          "base_uri": "https://localhost:8080/"
        },
        "id": "PpkdgOUFed70",
        "outputId": "4135f493-0615-4653-a2ec-313f63654406"
      },
      "execution_count": null,
      "outputs": [
        {
          "output_type": "execute_result",
          "data": {
            "text/plain": [
              "[(1, 1, [Matrix([\n",
              "   [ 1/8],\n",
              "   [-1/8],\n",
              "   [   1]])]), (2, 2, [Matrix([\n",
              "   [0],\n",
              "   [0],\n",
              "   [1]])])]"
            ]
          },
          "metadata": {},
          "execution_count": 120
        }
      ]
    },
    {
      "cell_type": "markdown",
      "source": [
        "#Singular Value Decomposition"
      ],
      "metadata": {
        "id": "CM9uaYzGIrG8"
      }
    },
    {
      "cell_type": "markdown",
      "source": [
        "Find Singular value decomposition of following matrix $A$\n",
        "$$\\begin{bmatrix}4&0\\\\3&-5\\end{bmatrix}$$\n",
        "Objective is to decompose $A$ as $U\\Sigma V^T$ "
      ],
      "metadata": {
        "id": "B1q4-sEieeX2"
      }
    },
    {
      "cell_type": "markdown",
      "source": [
        "## Find $A^T$"
      ],
      "metadata": {
        "id": "-DmQ-3_lF7Cp"
      }
    },
    {
      "cell_type": "code",
      "source": [
        "from sympy import *\n",
        "A = Matrix([[4 ,0],[3, -5]])\n",
        "ATrans=A.transpose()\n",
        "ATrans"
      ],
      "metadata": {
        "colab": {
          "base_uri": "https://localhost:8080/"
        },
        "id": "Y_6dFZFwGEiw",
        "outputId": "b77dfea7-20f0-4b18-bdef-f9bbeed860d5"
      },
      "execution_count": null,
      "outputs": [
        {
          "output_type": "execute_result",
          "data": {
            "text/latex": "$\\displaystyle \\left[\\begin{matrix}4 & 3\\\\0 & -5\\end{matrix}\\right]$",
            "text/plain": [
              "Matrix([\n",
              "[4,  3],\n",
              "[0, -5]])"
            ]
          },
          "metadata": {},
          "execution_count": 121
        }
      ]
    },
    {
      "cell_type": "markdown",
      "source": [
        "## Find $A^TA$ (Let it be $C$)"
      ],
      "metadata": {
        "id": "XEMu4DODGZcQ"
      }
    },
    {
      "cell_type": "code",
      "source": [
        "C=ATrans*A\n",
        "C"
      ],
      "metadata": {
        "colab": {
          "base_uri": "https://localhost:8080/"
        },
        "id": "s_J8SUhAGbQw",
        "outputId": "3dc5e031-6c6e-4309-eadc-7367c377510c"
      },
      "execution_count": null,
      "outputs": [
        {
          "output_type": "execute_result",
          "data": {
            "text/latex": "$\\displaystyle \\left[\\begin{matrix}25 & -15\\\\-15 & 25\\end{matrix}\\right]$",
            "text/plain": [
              "Matrix([\n",
              "[ 25, -15],\n",
              "[-15,  25]])"
            ]
          },
          "metadata": {},
          "execution_count": 122
        }
      ]
    },
    {
      "cell_type": "markdown",
      "source": [
        "## Find eigen values of $C$"
      ],
      "metadata": {
        "id": "J0KP2NnQGtEY"
      }
    },
    {
      "cell_type": "code",
      "source": [
        "C.eigenvals()"
      ],
      "metadata": {
        "colab": {
          "base_uri": "https://localhost:8080/"
        },
        "id": "tBkcfXgeGUpY",
        "outputId": "6801bb54-5b5b-40eb-950c-f3caf839a506"
      },
      "execution_count": null,
      "outputs": [
        {
          "output_type": "execute_result",
          "data": {
            "text/plain": [
              "{10: 1, 40: 1}"
            ]
          },
          "metadata": {},
          "execution_count": 123
        }
      ]
    },
    {
      "cell_type": "markdown",
      "source": [
        "## Compute $\\Sigma$ (Let it be $S$)"
      ],
      "metadata": {
        "id": "d7FGZv4xHFIQ"
      }
    },
    {
      "cell_type": "code",
      "source": [
        "import numpy as np\n",
        "S=Matrix([[np.sqrt(40) ,0],[0, np.sqrt(10)]])\n",
        "S"
      ],
      "metadata": {
        "colab": {
          "base_uri": "https://localhost:8080/"
        },
        "id": "gxvVj6FzHAhx",
        "outputId": "283080f0-5394-4b70-8bf9-9a63128b6013"
      },
      "execution_count": null,
      "outputs": [
        {
          "output_type": "execute_result",
          "data": {
            "text/latex": "$\\displaystyle \\left[\\begin{matrix}6.32455532033676 & 0\\\\0 & 3.16227766016838\\end{matrix}\\right]$",
            "text/plain": [
              "Matrix([\n",
              "[6.32455532033676,                0],\n",
              "[               0, 3.16227766016838]])"
            ]
          },
          "metadata": {},
          "execution_count": 124
        }
      ]
    },
    {
      "cell_type": "markdown",
      "source": [
        "## Find eigen vectors of $A^TA$ and normalize it"
      ],
      "metadata": {
        "id": "-4UgaRo2Hvjn"
      }
    },
    {
      "cell_type": "code",
      "source": [
        "x=C.eigenvects()\n",
        "x"
      ],
      "metadata": {
        "colab": {
          "base_uri": "https://localhost:8080/"
        },
        "id": "k26Pw9UmH97g",
        "outputId": "dbcd9b91-d5c6-4827-a005-d2115c743558"
      },
      "execution_count": null,
      "outputs": [
        {
          "output_type": "execute_result",
          "data": {
            "text/plain": [
              "[(10, 1, [Matrix([\n",
              "   [1],\n",
              "   [1]])]), (40, 1, [Matrix([\n",
              "   [-1],\n",
              "   [ 1]])])]"
            ]
          },
          "metadata": {},
          "execution_count": 125
        }
      ]
    },
    {
      "cell_type": "code",
      "source": [
        "#Normalizing eigen vector correponding to eigen value 40\n",
        "import numpy as np\n",
        "x1 = np.array([[-1],[1]])\n",
        "normalized_x1 = x1/np.linalg.norm(x1)\n",
        "print(normalized_x1)"
      ],
      "metadata": {
        "colab": {
          "base_uri": "https://localhost:8080/"
        },
        "id": "wZOjXAHNIfQo",
        "outputId": "43e42ec4-d3c2-455b-a8f0-56d7a96f4a2a"
      },
      "execution_count": null,
      "outputs": [
        {
          "output_type": "stream",
          "name": "stdout",
          "text": [
            "[[-0.70710678]\n",
            " [ 0.70710678]]\n"
          ]
        }
      ]
    },
    {
      "cell_type": "code",
      "source": [
        "#Normalizing eigen vector correponding to eigen value 10\n",
        "import numpy as np\n",
        "x2 = np.array([[1],[1]])\n",
        "normalized_x2 = x2/np.linalg.norm(x2)\n",
        "print(normalized_x2)"
      ],
      "metadata": {
        "colab": {
          "base_uri": "https://localhost:8080/"
        },
        "id": "Wo1kWTnKIv_w",
        "outputId": "f6820cc2-f72e-417f-ad2e-256bd23be875"
      },
      "execution_count": null,
      "outputs": [
        {
          "output_type": "stream",
          "name": "stdout",
          "text": [
            "[[0.70710678]\n",
            " [0.70710678]]\n"
          ]
        }
      ]
    },
    {
      "cell_type": "markdown",
      "source": [
        "## Formulate $V$ and find $V^T$"
      ],
      "metadata": {
        "id": "43rSv-zVI8z3"
      }
    },
    {
      "cell_type": "code",
      "source": [
        "#V=[normalized_x1 normalized_x2]\n",
        "V=Matrix([[-0.70710678,0.70710678],[0.70710678,0.70710678]])\n",
        "V"
      ],
      "metadata": {
        "colab": {
          "base_uri": "https://localhost:8080/"
        },
        "id": "WDarqGPiJj4Y",
        "outputId": "457635c4-49fd-4c0f-d41a-501596167476"
      },
      "execution_count": null,
      "outputs": [
        {
          "output_type": "execute_result",
          "data": {
            "text/latex": "$\\displaystyle \\left[\\begin{matrix}-0.70710678 & 0.70710678\\\\0.70710678 & 0.70710678\\end{matrix}\\right]$",
            "text/plain": [
              "Matrix([\n",
              "[-0.70710678, 0.70710678],\n",
              "[ 0.70710678, 0.70710678]])"
            ]
          },
          "metadata": {},
          "execution_count": 128
        }
      ]
    },
    {
      "cell_type": "code",
      "source": [
        "VTrans=V.transpose()\n",
        "VTrans"
      ],
      "metadata": {
        "colab": {
          "base_uri": "https://localhost:8080/"
        },
        "id": "RUbyZFjmKRE3",
        "outputId": "e950acd5-5a50-40e5-a9eb-d01696e13aca"
      },
      "execution_count": null,
      "outputs": [
        {
          "output_type": "execute_result",
          "data": {
            "text/latex": "$\\displaystyle \\left[\\begin{matrix}-0.70710678 & 0.70710678\\\\0.70710678 & 0.70710678\\end{matrix}\\right]$",
            "text/plain": [
              "Matrix([\n",
              "[-0.70710678, 0.70710678],\n",
              "[ 0.70710678, 0.70710678]])"
            ]
          },
          "metadata": {},
          "execution_count": 129
        }
      ]
    },
    {
      "cell_type": "markdown",
      "source": [
        "## Compute $U$ as $AV\\Sigma ^{-1}$ (Note S is variable used for $\\Sigma$)"
      ],
      "metadata": {
        "id": "JlvBP3hfKcpX"
      }
    },
    {
      "cell_type": "code",
      "source": [
        "U=A*V*S**-1\n",
        "U"
      ],
      "metadata": {
        "colab": {
          "base_uri": "https://localhost:8080/"
        },
        "id": "tSl8Uwq9Kl_d",
        "outputId": "4b69ea18-c3cc-45b8-9613-f48176a97361"
      },
      "execution_count": null,
      "outputs": [
        {
          "output_type": "execute_result",
          "data": {
            "text/latex": "$\\displaystyle \\left[\\begin{matrix}-0.447213594749519 & 0.894427189499039\\\\-0.894427189499039 & -0.447213594749519\\end{matrix}\\right]$",
            "text/plain": [
              "Matrix([\n",
              "[-0.447213594749519,  0.894427189499039],\n",
              "[-0.894427189499039, -0.447213594749519]])"
            ]
          },
          "metadata": {},
          "execution_count": 130
        }
      ]
    },
    {
      "cell_type": "markdown",
      "source": [
        "## Verify $A=U\\Sigma V^T$ (Note S is variable used for $\\Sigma$)"
      ],
      "metadata": {
        "id": "buP5ticEKvlA"
      }
    },
    {
      "cell_type": "code",
      "source": [
        "A"
      ],
      "metadata": {
        "colab": {
          "base_uri": "https://localhost:8080/"
        },
        "id": "QTyM4YWBK4cp",
        "outputId": "d4daba1b-1b1e-4234-e99e-43f2097bffd8"
      },
      "execution_count": null,
      "outputs": [
        {
          "output_type": "execute_result",
          "data": {
            "text/latex": "$\\displaystyle \\left[\\begin{matrix}4 & 0\\\\3 & -5\\end{matrix}\\right]$",
            "text/plain": [
              "Matrix([\n",
              "[4,  0],\n",
              "[3, -5]])"
            ]
          },
          "metadata": {},
          "execution_count": 131
        }
      ]
    },
    {
      "cell_type": "code",
      "source": [
        "U*S*VTrans"
      ],
      "metadata": {
        "colab": {
          "base_uri": "https://localhost:8080/"
        },
        "id": "loOQJiDwK64B",
        "outputId": "1f46edf1-95da-434a-cf28-7ba938fd65c5"
      },
      "execution_count": null,
      "outputs": [
        {
          "output_type": "execute_result",
          "data": {
            "text/latex": "$\\displaystyle \\left[\\begin{matrix}3.99999998657575 & 0\\\\2.99999998993181 & -4.99999998321969\\end{matrix}\\right]$",
            "text/plain": [
              "Matrix([\n",
              "[3.99999998657575,                 0],\n",
              "[2.99999998993181, -4.99999998321969]])"
            ]
          },
          "metadata": {},
          "execution_count": 132
        }
      ]
    },
    {
      "cell_type": "markdown",
      "source": [
        "## Using svd function"
      ],
      "metadata": {
        "id": "WkRXcB0cLhGk"
      }
    },
    {
      "cell_type": "code",
      "source": [
        "import numpy as np\n",
        "A = np.array([[4,0],[3,-5]])\n",
        "U, S, VT = np.linalg.svd(A)"
      ],
      "metadata": {
        "id": "RnIza9ZJ_RnZ"
      },
      "execution_count": null,
      "outputs": []
    },
    {
      "cell_type": "code",
      "source": [
        "U"
      ],
      "metadata": {
        "colab": {
          "base_uri": "https://localhost:8080/"
        },
        "id": "0yaRBY-8DUIY",
        "outputId": "679a80ac-7199-4fe8-bbb4-ef3114c2fdfd"
      },
      "execution_count": null,
      "outputs": [
        {
          "output_type": "execute_result",
          "data": {
            "text/plain": [
              "array([[-0.4472136 , -0.89442719],\n",
              "       [-0.89442719,  0.4472136 ]])"
            ]
          },
          "metadata": {},
          "execution_count": 134
        }
      ]
    },
    {
      "cell_type": "code",
      "source": [
        "S"
      ],
      "metadata": {
        "colab": {
          "base_uri": "https://localhost:8080/"
        },
        "id": "GOyDutzFDpN_",
        "outputId": "49182490-1401-47fe-c45a-d0471c73d42d"
      },
      "execution_count": null,
      "outputs": [
        {
          "output_type": "execute_result",
          "data": {
            "text/plain": [
              "array([6.32455532, 3.16227766])"
            ]
          },
          "metadata": {},
          "execution_count": 135
        }
      ]
    },
    {
      "cell_type": "code",
      "source": [
        "VT\n",
        "\n"
      ],
      "metadata": {
        "id": "NxgP99vEIxVc",
        "colab": {
          "base_uri": "https://localhost:8080/"
        },
        "outputId": "9cc6ddf8-56c9-441c-e81b-0bf2c07c9d64"
      },
      "execution_count": null,
      "outputs": [
        {
          "output_type": "execute_result",
          "data": {
            "text/plain": [
              "array([[-0.70710678,  0.70710678],\n",
              "       [-0.70710678, -0.70710678]])"
            ]
          },
          "metadata": {},
          "execution_count": 136
        }
      ]
    },
    {
      "cell_type": "markdown",
      "source": [
        "**Note that eigenvectors are not unique. Multiplying by any constant, including -1 (which simply changes the sign), gives another valid eigenvector**"
      ],
      "metadata": {
        "id": "P1Gny8iJPsBN"
      }
    },
    {
      "cell_type": "markdown",
      "source": [
        "#Solving First Order Linear Systems"
      ],
      "metadata": {
        "id": "fQ6qbw9dNOGw"
      }
    },
    {
      "cell_type": "markdown",
      "source": [
        "A **differential equation** is an equation involving unknown function and their derivatives. The **order** of a differential equation is the order of the highest derivative it contains.\n",
        "\n",
        "The simplest differential equation are the **first-order** equations of the form $y'=ay$, where $y=f(x)$ is an unknown differentiable function, $y'=\\frac{dy}{dx}$ is its derivative and $a$ is a constant. This equations has infinitely many solutions and they are of the form $y=ce^{ax}$, otherwise known as **general** solution.\n",
        "\n",
        "A condition which specifies the value of the general solution at a point is called an **initial** condition, and the problem of solving a differential equation subject to an initial condition is called an **initial-value problem**\n",
        "\n",
        "$y(0)=6$ is an example of initial condition, which means $y=6$ when $x=0$\n",
        "\n",
        "Collection of first order differential equations is also known as **First-order linear systems**"
      ],
      "metadata": {
        "id": "KYjrTpYYtMZB"
      }
    },
    {
      "cell_type": "markdown",
      "source": [
        "## Case: Each equation involved has only one of the unknown functions "
      ],
      "metadata": {
        "id": "ePAOOKPfyMp3"
      }
    },
    {
      "cell_type": "markdown",
      "source": [
        "Find the solution of the following first order linear system\n",
        "$$y_1^{'}=3y_1$$\n",
        "$$y_2^{'}=-2y_2$$\n",
        "$$y_3^{'}=5y_3$$\n",
        "that satisfies the initial conditions $y_1(0)=1,y_2(0)=4$ and $y_3(0)=-2$"
      ],
      "metadata": {
        "id": "WY5n1x5zyXWe"
      }
    },
    {
      "cell_type": "markdown",
      "source": [
        "**Step-1 : Write system in matrix form**\n",
        "\n",
        "$$\\begin{bmatrix}y_1^{'}\\\\y_2^{'}\\\\y_3^{'} \\end{bmatrix}=\\begin{bmatrix}3&0&0\\\\0&-2&0\\\\0&0&5 \\end{bmatrix}\\begin{bmatrix}y_1\\\\y_2\\\\y_3 \\end{bmatrix}$$\n",
        "**Step-2 : Find general solution**\n",
        "$$y=\\begin{bmatrix}y_1\\\\y_2\\\\y_3 \\end{bmatrix}=\\begin{bmatrix}c_1e^{-3x}\\\\c_2e^{-2x}\\\\c_3e^{5x} \\end{bmatrix}$$\n",
        "**Step-3 : Find solution satisfying initial conditions**\n",
        "\n",
        "From given initial conditions, we obtain $c_1=1,c_2=4$ and $c_3=-2$\n",
        "\n",
        "Solutions satisfying this conditions are $y_1=e^{3x},y_2=4e^{-2x},y_3=-2e^{5x}$\n"
      ],
      "metadata": {
        "id": "kfWhBNIMzsld"
      }
    },
    {
      "cell_type": "markdown",
      "metadata": {
        "id": "K94uCQVk-KMo"
      },
      "source": [
        "# Assignment-5"
      ]
    },
    {
      "cell_type": "markdown",
      "metadata": {
        "id": "EwipzyTu_MG1"
      },
      "source": [
        "## Question-1"
      ]
    },
    {
      "cell_type": "markdown",
      "metadata": {
        "id": "wHD59vz1-Pzb"
      },
      "source": [
        "Find inverse of following matrix $A$\n",
        "$$\\begin{bmatrix}\n",
        "1 & 2 & 3\\\\\n",
        "1 & 1 & 4\\\\\n",
        "2 & 1 & 5\n",
        "\\end{bmatrix}$$\n",
        "\n",
        "(Note: Detailed steps required)"
      ]
    },
    {
      "cell_type": "markdown",
      "metadata": {
        "id": "7JjZq3ml_QAy"
      },
      "source": [
        "## Question-2\n"
      ]
    },
    {
      "cell_type": "markdown",
      "metadata": {
        "id": "9CgwHME0_yJ1"
      },
      "source": [
        "Using Cramer's rule find solutions for following linear system (Change values)\n",
        "$$x_1+2x_2+3x_3=2$$\n",
        "$$x_1+x_2+4x_3=2$$\n",
        "$$2x_1+x_2+5x_3=2$$\n",
        "\n",
        "(Note: Detailed steps required)"
      ]
    },
    {
      "cell_type": "markdown",
      "metadata": {
        "id": "qC5QbSbuB-dI"
      },
      "source": [
        "## Question-3"
      ]
    },
    {
      "cell_type": "markdown",
      "metadata": {
        "id": "9HKniwuHCPb2"
      },
      "source": [
        "Find eigenvalues and eigenvectors of following matrix $A$\n",
        "$$\\begin{bmatrix}\n",
        "3 & 0 & 0\\\\\n",
        "-2 & 7 & 0\\\\\n",
        "4 & 8 & 1\n",
        "\\end{bmatrix}$$\n",
        "\n",
        "(Note: Detailed steps required)"
      ]
    },
    {
      "cell_type": "markdown",
      "metadata": {
        "id": "kp9BscY0EO_D"
      },
      "source": [
        "## Question-4"
      ]
    },
    {
      "cell_type": "markdown",
      "metadata": {
        "id": "iNZrodPBEPIc"
      },
      "source": [
        "Find SVD of following matrix $A$\n",
        "$$\\begin{bmatrix}1&1\\\\0&1\\\\1&0 \\end{bmatrix}$$\n",
        "(Note: Detailed steps required)"
      ]
    },
    {
      "cell_type": "markdown",
      "metadata": {
        "id": "r2JblEzfFAt-"
      },
      "source": [
        "## Question-5"
      ]
    },
    {
      "cell_type": "markdown",
      "metadata": {
        "id": "xLl5mj3dFAwx"
      },
      "source": [
        "Find the solution of the following first order linear system\n",
        "$$y_1^{'}=4y_1$$\n",
        "$$y_2^{'}=-3y_2$$\n",
        "$$y_3^{'}=11y_3$$\n",
        "that satisfies the initial conditions $y_1(0)=-2,y_2(0)=-14$ and $y_3(0)=-21$\n",
        "\n",
        "(Note: Detailed steps required)"
      ]
    }
  ]
}