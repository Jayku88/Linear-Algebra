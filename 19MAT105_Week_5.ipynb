{
  "cells": [
    {
      "cell_type": "markdown",
      "metadata": {
        "id": "view-in-github",
        "colab_type": "text"
      },
      "source": [
        "<a href=\"https://colab.research.google.com/github/Jayku88/Linear-Algebra/blob/main/19MAT105_Week_5.ipynb\" target=\"_parent\"><img src=\"https://colab.research.google.com/assets/colab-badge.svg\" alt=\"Open In Colab\"/></a>"
      ]
    },
    {
      "cell_type": "markdown",
      "metadata": {
        "id": "aXQF6M6AMDmC"
      },
      "source": [
        "#Determinants"
      ]
    },
    {
      "cell_type": "markdown",
      "metadata": {
        "id": "i25r6V2uMEWa"
      },
      "source": [
        "##Square Matrix\n",
        "\n",
        "A matrix with $n$ rows and $n$ columns is called a square matrix of order $n$"
      ]
    },
    {
      "cell_type": "markdown",
      "metadata": {
        "id": "RN7DsXBCMEZK"
      },
      "source": [
        "##Determinants\n",
        "A single value that contains many information related to a square matrix. If $A$ is the matrix, then determinant is denoted by $det(A)$\n",
        "\n",
        "**Properties**\n",
        "\n",
        "1.   $det(I)=1$\n",
        "2.   If you exchange two rows of a matrix, you reverse the sign of its determinant from positive to negative or from negative to positive\n",
        "3.   If we multiply one row of a matrix by $t$, the determinant is multiplied by $t$\n",
        "4.   If two rows of a matrix are equal, its determinant is zero.\n",
        "5.   If matrix has a row that is all zeros, its determinant is zero.\n",
        "6.   The determinant of a **triangular** matrix is the product of the diagonal entries\n",
        "7.   $det(A) = 0$ exactly when $A$ is **singular**\n",
        "8.   $det(AB) = det(A)det(B)$\n",
        "9.   $det(A^T)=det(A)$\n",
        "\n",
        "\n",
        "\n",
        "\n"
      ]
    },
    {
      "cell_type": "markdown",
      "metadata": {
        "id": "Xuk_omcWRcjQ"
      },
      "source": [
        "### Property 1"
      ]
    },
    {
      "cell_type": "code",
      "execution_count": 1,
      "metadata": {
        "colab": {
          "base_uri": "https://localhost:8080/",
          "height": 95
        },
        "id": "nyqVo-IlRh7Z",
        "outputId": "beaf4b51-68fb-4c93-87da-271678cb690e"
      },
      "outputs": [
        {
          "output_type": "stream",
          "name": "stdout",
          "text": [
            "Determinant of A is 1\n"
          ]
        },
        {
          "output_type": "execute_result",
          "data": {
            "text/latex": "$\\displaystyle \\left[\\begin{matrix}1 & 0 & 0\\\\0 & 1 & 0\\\\0 & 0 & 1\\end{matrix}\\right]$",
            "text/plain": [
              "Matrix([\n",
              "[1, 0, 0],\n",
              "[0, 1, 0],\n",
              "[0, 0, 1]])"
            ]
          },
          "metadata": {},
          "execution_count": 1
        }
      ],
      "source": [
        "from sympy import *\n",
        "A = Matrix([[1,0,0], [0,1,0], [0,0,1]])\n",
        "print(\"Determinant of A is\",det(A))\n",
        "A"
      ]
    },
    {
      "cell_type": "markdown",
      "metadata": {
        "id": "qi3GEvXPRiWq"
      },
      "source": [
        "### Property 2"
      ]
    },
    {
      "cell_type": "code",
      "execution_count": 2,
      "metadata": {
        "colab": {
          "base_uri": "https://localhost:8080/",
          "height": 0
        },
        "id": "JawJsZIgRj3k",
        "outputId": "3f455aaf-853c-4fd3-b428-b84b76e31a53"
      },
      "outputs": [
        {
          "output_type": "stream",
          "name": "stdout",
          "text": [
            "Determinant of A is -1\n"
          ]
        },
        {
          "output_type": "execute_result",
          "data": {
            "text/latex": "$\\displaystyle \\left[\\begin{matrix}0 & 1 & 0\\\\1 & 0 & 0\\\\0 & 0 & 1\\end{matrix}\\right]$",
            "text/plain": [
              "Matrix([\n",
              "[0, 1, 0],\n",
              "[1, 0, 0],\n",
              "[0, 0, 1]])"
            ]
          },
          "metadata": {},
          "execution_count": 2
        }
      ],
      "source": [
        "from sympy import *\n",
        "A = Matrix([[0,1,0], [1,0,0], [0,0,1]])\n",
        "print(\"Determinant of A is\",det(A))\n",
        "A"
      ]
    },
    {
      "cell_type": "markdown",
      "metadata": {
        "id": "kOTJkHHERkuc"
      },
      "source": [
        "### Property 3"
      ]
    },
    {
      "cell_type": "code",
      "execution_count": 3,
      "metadata": {
        "colab": {
          "base_uri": "https://localhost:8080/",
          "height": 95
        },
        "id": "tkTJyHd0RmRn",
        "outputId": "3f23b1e8-3e0e-4a59-f76e-2e8ed052cb42"
      },
      "outputs": [
        {
          "output_type": "stream",
          "name": "stdout",
          "text": [
            "Determinant of A is 3\n"
          ]
        },
        {
          "output_type": "execute_result",
          "data": {
            "text/latex": "$\\displaystyle \\left[\\begin{matrix}3 & 0 & 0\\\\0 & 1 & 0\\\\0 & 0 & 1\\end{matrix}\\right]$",
            "text/plain": [
              "Matrix([\n",
              "[3, 0, 0],\n",
              "[0, 1, 0],\n",
              "[0, 0, 1]])"
            ]
          },
          "metadata": {},
          "execution_count": 3
        }
      ],
      "source": [
        "from sympy import *\n",
        "A = Matrix([[3,0,0], [0,1,0], [0,0,1]])\n",
        "print(\"Determinant of A is\",det(A))\n",
        "A"
      ]
    },
    {
      "cell_type": "markdown",
      "metadata": {
        "id": "ArIenBWDRnfT"
      },
      "source": [
        "### Property 4"
      ]
    },
    {
      "cell_type": "code",
      "execution_count": 4,
      "metadata": {
        "colab": {
          "base_uri": "https://localhost:8080/",
          "height": 95
        },
        "id": "2OfFtmExRoZN",
        "outputId": "09b4cde4-41b4-46e0-f8b4-126c9e751c86"
      },
      "outputs": [
        {
          "output_type": "stream",
          "name": "stdout",
          "text": [
            "Determinant of A is 0\n"
          ]
        },
        {
          "output_type": "execute_result",
          "data": {
            "text/latex": "$\\displaystyle \\left[\\begin{matrix}1 & 0 & 0\\\\1 & 0 & 0\\\\0 & 0 & 1\\end{matrix}\\right]$",
            "text/plain": [
              "Matrix([\n",
              "[1, 0, 0],\n",
              "[1, 0, 0],\n",
              "[0, 0, 1]])"
            ]
          },
          "metadata": {},
          "execution_count": 4
        }
      ],
      "source": [
        "from sympy import *\n",
        "A = Matrix([[1,0,0], [1,0,0], [0,0,1]])\n",
        "print(\"Determinant of A is\",det(A))\n",
        "A"
      ]
    },
    {
      "cell_type": "markdown",
      "metadata": {
        "id": "qjKifkKNRo4E"
      },
      "source": [
        "### Property 5"
      ]
    },
    {
      "cell_type": "code",
      "execution_count": 5,
      "metadata": {
        "colab": {
          "base_uri": "https://localhost:8080/",
          "height": 96
        },
        "id": "qcaGlqXCRp1N",
        "outputId": "af2e80b3-3eb1-4fd4-e167-6571a0d54bc3"
      },
      "outputs": [
        {
          "output_type": "stream",
          "name": "stdout",
          "text": [
            "Determinant of A is 0\n"
          ]
        },
        {
          "output_type": "execute_result",
          "data": {
            "text/latex": "$\\displaystyle \\left[\\begin{matrix}1 & 0 & 0\\\\0 & 1 & 0\\\\0 & 0 & 0\\end{matrix}\\right]$",
            "text/plain": [
              "Matrix([\n",
              "[1, 0, 0],\n",
              "[0, 1, 0],\n",
              "[0, 0, 0]])"
            ]
          },
          "metadata": {},
          "execution_count": 5
        }
      ],
      "source": [
        "from sympy import *\n",
        "A = Matrix([[1,0,0], [0,1,0], [0,0,0]])\n",
        "print(\"Determinant of A is\",det(A))\n",
        "A"
      ]
    },
    {
      "cell_type": "markdown",
      "metadata": {
        "id": "xO724MhORqQ8"
      },
      "source": [
        "### Property 6"
      ]
    },
    {
      "cell_type": "code",
      "execution_count": 6,
      "metadata": {
        "colab": {
          "base_uri": "https://localhost:8080/",
          "height": 96
        },
        "id": "7AHoDhheRrIt",
        "outputId": "580e3325-1687-4245-8903-5fc897ec31b6"
      },
      "outputs": [
        {
          "output_type": "stream",
          "name": "stdout",
          "text": [
            "Determinant of A is 18\n"
          ]
        },
        {
          "output_type": "execute_result",
          "data": {
            "text/latex": "$\\displaystyle \\left[\\begin{matrix}2 & 0 & 0\\\\0 & 3 & 0\\\\0 & 0 & 3\\end{matrix}\\right]$",
            "text/plain": [
              "Matrix([\n",
              "[2, 0, 0],\n",
              "[0, 3, 0],\n",
              "[0, 0, 3]])"
            ]
          },
          "metadata": {},
          "execution_count": 6
        }
      ],
      "source": [
        "from sympy import *\n",
        "A = Matrix([[2,0,0], [0,3,0], [0,0,3]]) #Diagonal Matrix\n",
        "print(\"Determinant of A is\",det(A))\n",
        "A"
      ]
    },
    {
      "cell_type": "code",
      "execution_count": 7,
      "metadata": {
        "colab": {
          "base_uri": "https://localhost:8080/",
          "height": 96
        },
        "id": "bvZvmbRyS4O4",
        "outputId": "b1cbdd41-bdb0-40da-e892-54692ba5feea"
      },
      "outputs": [
        {
          "output_type": "stream",
          "name": "stdout",
          "text": [
            "Determinant of A is 18\n"
          ]
        },
        {
          "output_type": "execute_result",
          "data": {
            "text/latex": "$\\displaystyle \\left[\\begin{matrix}2 & 1 & 2\\\\0 & 3 & 9\\\\0 & 0 & 3\\end{matrix}\\right]$",
            "text/plain": [
              "Matrix([\n",
              "[2, 1, 2],\n",
              "[0, 3, 9],\n",
              "[0, 0, 3]])"
            ]
          },
          "metadata": {},
          "execution_count": 7
        }
      ],
      "source": [
        "from sympy import *\n",
        "A = Matrix([[2,1,2], [0,3,9], [0,0,3]]) #Upper Triangular Matrix\n",
        "print(\"Determinant of A is\",det(A))\n",
        "A"
      ]
    },
    {
      "cell_type": "code",
      "execution_count": 8,
      "metadata": {
        "colab": {
          "base_uri": "https://localhost:8080/",
          "height": 96
        },
        "id": "vlxKBz4-S9r5",
        "outputId": "72239ddf-0efc-4457-e242-4b5ea5681879"
      },
      "outputs": [
        {
          "output_type": "stream",
          "name": "stdout",
          "text": [
            "Determinant of A is 18\n"
          ]
        },
        {
          "output_type": "execute_result",
          "data": {
            "text/latex": "$\\displaystyle \\left[\\begin{matrix}2 & 0 & 0\\\\6 & 3 & 0\\\\7 & 9 & 3\\end{matrix}\\right]$",
            "text/plain": [
              "Matrix([\n",
              "[2, 0, 0],\n",
              "[6, 3, 0],\n",
              "[7, 9, 3]])"
            ]
          },
          "metadata": {},
          "execution_count": 8
        }
      ],
      "source": [
        "from sympy import *\n",
        "A = Matrix([[2,0,0], [6,3,0], [7,9,3]]) #Lower Triangular Matrix\n",
        "print(\"Determinant of A is\",det(A))\n",
        "A"
      ]
    },
    {
      "cell_type": "markdown",
      "metadata": {
        "id": "HpHDohGrRrlM"
      },
      "source": [
        "### Property 7"
      ]
    },
    {
      "cell_type": "code",
      "execution_count": 9,
      "metadata": {
        "colab": {
          "base_uri": "https://localhost:8080/",
          "height": 96
        },
        "id": "MkpLebjqRsv8",
        "outputId": "17e177d4-194c-4348-b8d9-120d271a5c06"
      },
      "outputs": [
        {
          "output_type": "stream",
          "name": "stdout",
          "text": [
            "Determinant of A is 0\n"
          ]
        },
        {
          "output_type": "execute_result",
          "data": {
            "text/latex": "$\\displaystyle \\left[\\begin{matrix}1 & 2 & 3\\\\2 & 4 & 6\\\\7 & 7 & 7\\end{matrix}\\right]$",
            "text/plain": [
              "Matrix([\n",
              "[1, 2, 3],\n",
              "[2, 4, 6],\n",
              "[7, 7, 7]])"
            ]
          },
          "metadata": {},
          "execution_count": 9
        }
      ],
      "source": [
        "from sympy import *\n",
        "A = Matrix([[1,2,3], [2,4,6], [7,7,7]]) #Inverse does not exists if determinant is zero\n",
        "print(\"Determinant of A is\",det(A))\n",
        "A"
      ]
    },
    {
      "cell_type": "markdown",
      "metadata": {
        "id": "oylYRAnKRtEs"
      },
      "source": [
        "### Property 8"
      ]
    },
    {
      "cell_type": "code",
      "execution_count": 10,
      "metadata": {
        "colab": {
          "base_uri": "https://localhost:8080/"
        },
        "id": "0Qh3qoJ-Rt71",
        "outputId": "b80ca3d7-0f68-4c15-a711-c0b67067acbb"
      },
      "outputs": [
        {
          "output_type": "stream",
          "name": "stdout",
          "text": [
            "Determinant of A is 18\n",
            "Determinant of B is 18\n",
            "Determinant of AB is 324\n"
          ]
        }
      ],
      "source": [
        "from sympy import *\n",
        "A = Matrix([[2,1,2], [0,3,9], [0,0,3]]) \n",
        "print(\"Determinant of A is\",det(A))\n",
        "B = Matrix([[2,0,0], [6,3,0], [7,9,3]]) \n",
        "print(\"Determinant of B is\",det(B))\n",
        "C=A*B\n",
        "print(\"Determinant of AB is\",det(C))"
      ]
    },
    {
      "cell_type": "markdown",
      "metadata": {
        "id": "x3LUPk92RuSk"
      },
      "source": [
        "### Property 9"
      ]
    },
    {
      "cell_type": "code",
      "execution_count": 11,
      "metadata": {
        "colab": {
          "base_uri": "https://localhost:8080/"
        },
        "id": "V1wE0f5ZRvO_",
        "outputId": "f529b73a-0a90-4d98-c7d9-03cf85a14531"
      },
      "outputs": [
        {
          "output_type": "stream",
          "name": "stdout",
          "text": [
            "Determinant of A is 324\n",
            "Determinant of transpose of A is 324\n"
          ]
        }
      ],
      "source": [
        "from sympy import *\n",
        "A = Matrix([[24,21,6], [81,90,27], [21,27,9]]) \n",
        "print(\"Determinant of A is\",det(A))\n",
        "C=A.transpose()\n",
        "print(\"Determinant of transpose of A is\",det(C))"
      ]
    },
    {
      "cell_type": "markdown",
      "metadata": {
        "id": "UVgFbXzXII5u"
      },
      "source": [
        "###Finding Inverse"
      ]
    },
    {
      "cell_type": "markdown",
      "metadata": {
        "id": "4SNUbTKbJTpc"
      },
      "source": [
        "If $A$ is an invertible matrix, then\n",
        "$$A^{-1}=\\frac{adj(A)}{det(A)}$$\n",
        "$A$ is said to be invertible or non-singular if $det(A)\\neq0$"
      ]
    },
    {
      "cell_type": "markdown",
      "metadata": {
        "id": "MK7yP7jWNsri"
      },
      "source": [
        "Find inverse of following matrix\n",
        "$$\\begin{bmatrix}3&2&-1\\\\1&6&3\\\\2&-4&0\\end{bmatrix}$$"
      ]
    },
    {
      "cell_type": "code",
      "execution_count": 12,
      "metadata": {
        "colab": {
          "base_uri": "https://localhost:8080/",
          "height": 79
        },
        "id": "RuBnzUdaOCny",
        "outputId": "22eedd81-b532-4711-fcf5-5a721f2a0b1f"
      },
      "outputs": [
        {
          "output_type": "execute_result",
          "data": {
            "text/latex": "$\\displaystyle \\left[\\begin{matrix}\\frac{3}{16} & \\frac{1}{16} & \\frac{3}{16}\\\\\\frac{3}{32} & \\frac{1}{32} & - \\frac{5}{32}\\\\- \\frac{1}{4} & \\frac{1}{4} & \\frac{1}{4}\\end{matrix}\\right]$",
            "text/plain": [
              "Matrix([\n",
              "[3/16, 1/16,  3/16],\n",
              "[3/32, 1/32, -5/32],\n",
              "[-1/4,  1/4,   1/4]])"
            ]
          },
          "metadata": {},
          "execution_count": 12
        }
      ],
      "source": [
        "from sympy import *\n",
        "M = Matrix([[3,2,-1], [1,6,3], [2,-4,0]])\n",
        "M.inv()"
      ]
    },
    {
      "cell_type": "markdown",
      "metadata": {
        "id": "ETqLq9uFIJJd"
      },
      "source": [
        "###Cramer's Rule"
      ]
    },
    {
      "cell_type": "markdown",
      "metadata": {
        "id": "DnABKehsKLvE"
      },
      "source": [
        "If $Ax=b$ is a system of $n$ linear equations in $n$ unknowns such that $det(A)\\neq0$, then the system has a unique solution. This solution is, $$x_1=\\frac{det(A_1)}{det(A)},x_2=\\frac{det(A_2)}{det(A)}.....x_n=\\frac{det(A_n)}{det(A)}$$ where $A_j$ is the matrix obtained by replacing the entries in the $j'th$ column of $A$ by the entries in the matrix $$b=\\begin{bmatrix}\n",
        "b_1\\\\\n",
        "b_2\\\\\n",
        "..\\\\\n",
        "..\\\\\n",
        "b_n\n",
        "\\end{bmatrix}$$"
      ]
    },
    {
      "cell_type": "markdown",
      "metadata": {
        "id": "Okm2CBihOVWR"
      },
      "source": [
        "Solve the following linear system using **Cramer's rule**\n",
        "$$x_1+2x_3=6$$\n",
        "$$-3x_1+4x_2+6x_3=30$$\n",
        "$$-x_1-2x_2+3x_3=8$$"
      ]
    },
    {
      "cell_type": "code",
      "execution_count": 13,
      "metadata": {
        "colab": {
          "base_uri": "https://localhost:8080/"
        },
        "id": "rR0SJaNkOy-Q",
        "outputId": "e0b510ab-f296-417d-8ce0-7cd15c080a8c"
      },
      "outputs": [
        {
          "output_type": "stream",
          "name": "stdout",
          "text": [
            "Determinant of A is 44\n",
            "Determinant of A1 is -40\n",
            "Determinant of A2 is 72\n",
            "Determinant of A3 is 152\n",
            "x1 =  -10/11\n",
            "x2 =  18/11\n",
            "x3 =  38/11\n"
          ]
        }
      ],
      "source": [
        "from sympy import *\n",
        "A = Matrix([[1,0,2], [-3,4,6], [-1,-2,3]])\n",
        "print(\"Determinant of A is\",det(A))\n",
        "A1 = Matrix([[6,0,2], [30,4,6], [8,-2,3]])\n",
        "print(\"Determinant of A1 is\",det(A1))\n",
        "A2 = Matrix([[1,6,2], [-3,30,6], [-1,8,3]])\n",
        "print(\"Determinant of A2 is\",det(A2))\n",
        "A3 = Matrix([[1,0,6], [-3,4,30], [-1,-2,8]])\n",
        "print(\"Determinant of A3 is\",det(A3))\n",
        "print(\"x1 = \",det(A1)/det(A))\n",
        "print(\"x2 = \",det(A2)/det(A))\n",
        "print(\"x3 = \",det(A3)/det(A))\n"
      ]
    },
    {
      "cell_type": "markdown",
      "metadata": {
        "id": "ho_XFeYjIkV8"
      },
      "source": [
        "#Eigen Values and Eigen Vectors"
      ]
    },
    {
      "cell_type": "markdown",
      "metadata": {
        "id": "aKOc2yDQRwi2"
      },
      "source": [
        "https://www.youtube.com/watch?v=PFDu9oVAE-g\n",
        "\n",
        "For interpretation refer"
      ]
    },
    {
      "cell_type": "markdown",
      "metadata": {
        "id": "WrVJAUouTIL-"
      },
      "source": [
        "A matrix $A$ acts on vectors $x$ like a function does, with input $x$ and output $Ax$. Eigenvectors are vectors for which $Ax$ is parallel to $x$. In other words:\n",
        "$$Ax = \\lambda x$$\n",
        "In this equation, $x$ is an eigenvector of $A$ and $\\lambda$ is an eigenvalue of $A$. \n",
        "\n",
        "**Equivalent Statements**\n",
        "\n",
        "If $A$ is an $n\\times n$ matrix, then following statements are equivalent\n",
        "\n",
        "1.   $A$ is **invertible**\n",
        "2.   $Ax=0$ has only **trivial** solution\n",
        "3.   The **reduced row echelon form** of $A$ is $I_n$\n",
        "4.   $Ax=b$ is **consistent** for every $n \\times 1$ matrix $b$\n",
        "5.   $det(A) \\neq 0$\n",
        "6.   The column vectors are **linearly independent**\n",
        "7.   The row vectors are **linearly independent**\n",
        "8.   The column vectors of $A$ **span** $R^n$\n",
        "9.   The row vectors of $A$ **span** $R^n$\n",
        "10.  The column vectors of $A$ form a **basis** for $R^n$\n",
        "11.  The row vectors of $A$ form a **basis** for $R^n$\n",
        "12.  $A$ has **rank** $n$\n",
        "13.  **Dimension of column space** is $n$\n",
        "14.  **Dimension of null space** is $0$\n",
        "15.  $\\lambda =0$ is not an eigen value of $A$\n",
        "\n"
      ]
    },
    {
      "cell_type": "markdown",
      "metadata": {
        "id": "MDy68_8wVq7i"
      },
      "source": [
        "Find Eigen values and Eigen vectors of\n",
        "$$\\begin{bmatrix}0&0&-2\\\\1&2&1\\\\1&0&3 \\end{bmatrix}$$\n",
        "After getting the eigen values check relations between sum of eigen values, product of eigen values, determinant of matrix, trace of matrix"
      ]
    },
    {
      "cell_type": "code",
      "execution_count": 14,
      "metadata": {
        "colab": {
          "base_uri": "https://localhost:8080/"
        },
        "id": "gt4jWmAtg-ev",
        "outputId": "9d84ead5-5f2b-4443-b80b-86578e2bd7ee"
      },
      "outputs": [
        {
          "output_type": "execute_result",
          "data": {
            "text/plain": [
              "{1: 1, 2: 2}"
            ]
          },
          "metadata": {},
          "execution_count": 14
        }
      ],
      "source": [
        "from sympy import *\n",
        "M = Matrix([[0,0,-2],[1,2,1],[1,0,3]])\n",
        "M.eigenvals()"
      ]
    },
    {
      "cell_type": "code",
      "execution_count": 15,
      "metadata": {
        "colab": {
          "base_uri": "https://localhost:8080/"
        },
        "id": "aW_rCswfhIug",
        "outputId": "dffeab6c-1683-4b1e-ae2b-3f822214a623"
      },
      "outputs": [
        {
          "output_type": "execute_result",
          "data": {
            "text/plain": [
              "[(1, 1, [Matrix([\n",
              "   [-2],\n",
              "   [ 1],\n",
              "   [ 1]])]), (2, 2, [Matrix([\n",
              "   [0],\n",
              "   [1],\n",
              "   [0]]), Matrix([\n",
              "   [-1],\n",
              "   [ 0],\n",
              "   [ 1]])])]"
            ]
          },
          "metadata": {},
          "execution_count": 15
        }
      ],
      "source": [
        "M.eigenvects()"
      ]
    },
    {
      "cell_type": "code",
      "execution_count": 16,
      "metadata": {
        "colab": {
          "base_uri": "https://localhost:8080/"
        },
        "id": "k_u9-l0qhS3I",
        "outputId": "63325d9b-c0af-4524-f548-1cef4c824cb8"
      },
      "outputs": [
        {
          "output_type": "execute_result",
          "data": {
            "text/plain": [
              "{1: 1, 2: 2}"
            ]
          },
          "metadata": {},
          "execution_count": 16
        }
      ],
      "source": [
        "from sympy import *\n",
        "M = Matrix([[1,0,0],[1,2,0],[-3,5,2]])\n",
        "M.eigenvals()"
      ]
    },
    {
      "cell_type": "code",
      "execution_count": 17,
      "metadata": {
        "colab": {
          "base_uri": "https://localhost:8080/"
        },
        "id": "mK4L7LvPhUG4",
        "outputId": "0f947745-1072-47e7-f9e6-5ea1a0aa1cdc"
      },
      "outputs": [
        {
          "output_type": "execute_result",
          "data": {
            "text/plain": [
              "[(1, 1, [Matrix([\n",
              "   [ 1/8],\n",
              "   [-1/8],\n",
              "   [   1]])]), (2, 2, [Matrix([\n",
              "   [0],\n",
              "   [0],\n",
              "   [1]])])]"
            ]
          },
          "metadata": {},
          "execution_count": 17
        }
      ],
      "source": [
        "M.eigenvects()"
      ]
    },
    {
      "cell_type": "markdown",
      "metadata": {
        "id": "a0aDy75xWmz_"
      },
      "source": [
        "##Diagonalization"
      ]
    },
    {
      "cell_type": "markdown",
      "metadata": {
        "id": "T3MutD3mWtke"
      },
      "source": [
        "**Diagonalization Problem**\n",
        "\n",
        "Given an $n \\times n$ matrix $A$, does there exist an invertible matrix $P$ such that $P^{-1}AP$ is diagonal?\n",
        "\n",
        "or\n",
        "\n",
        "Given an $n \\times n$ matrix, does $A$ have $n$ linearly independent eigenvectors?\n",
        "\n",
        "**Procedure**\n",
        "\n",
        "\n",
        "1.   Confirm that the matrix is actually diagonalizable by finding $n$ linearly independent eigenvectors. One way to do this is by finding a basis for each eigenspace and merging these basis vectors in to a single set $S$. If this set has fewer than $n$ vectors, then the matrix is not diagonalizable\n",
        "2.   Form the matrix $P=\\begin{bmatrix}p_1&p_2& ...& p_n\\end{bmatrix}$ that has the vectors in $S$ as its column vectors\n",
        "3.   The matrix $P^{-1}AP$ will be diagonal and have the eigen values $\\lambda _1,\\lambda _2,..,\\lambda _n$ corresponding to the eigenvectors $p_1,p_2,...p_n$ as its successive diagonal entries\n",
        "\n",
        "**Note**\n",
        "\n",
        "\n",
        "1.   If $v_1,v_2,...v_k$ are eigenvectors of a matrix $A$ corresponding to distinct eigen values, then $\\{v_1,v_2,...v_k\\}$ is a linearly independent set\n",
        "2.   If a $n \\times n$ matrix $A$ has $n$ distinct eigenvalues, then $A$ is diagonalizable\n",
        "\n",
        "\n",
        "\n",
        "Diagonal matrices are relatively easy to compute with, and similar matrices share many properties, so diagonalizable matrices are well-suited for computation. In particular, many applications involve computing large powers of a matrix, which is easy if the matrix is diagonal. But if $A = PDP^{-1}$,then $A^n = PD^nP^{-1}$"
      ]
    },
    {
      "cell_type": "code",
      "execution_count": 18,
      "metadata": {
        "id": "EIG4gOH7gEEU"
      },
      "outputs": [],
      "source": [
        "from sympy import *\n",
        "M = Matrix([[0,0,-2],[1,2,1],[1,0,3]])\n",
        "P,D=M.diagonalize()"
      ]
    },
    {
      "cell_type": "code",
      "execution_count": 19,
      "metadata": {
        "colab": {
          "base_uri": "https://localhost:8080/",
          "height": 0
        },
        "id": "vGH6iakQgcKG",
        "outputId": "e370df07-24c3-443b-b2a1-f20cab244062"
      },
      "outputs": [
        {
          "output_type": "execute_result",
          "data": {
            "text/latex": "$\\displaystyle \\left[\\begin{matrix}-2 & 0 & -1\\\\1 & 1 & 0\\\\1 & 0 & 1\\end{matrix}\\right]$",
            "text/plain": [
              "Matrix([\n",
              "[-2, 0, -1],\n",
              "[ 1, 1,  0],\n",
              "[ 1, 0,  1]])"
            ]
          },
          "metadata": {},
          "execution_count": 19
        }
      ],
      "source": [
        "P"
      ]
    },
    {
      "cell_type": "code",
      "execution_count": 20,
      "metadata": {
        "colab": {
          "base_uri": "https://localhost:8080/",
          "height": 0
        },
        "id": "JQ1eJdPagc_t",
        "outputId": "0154173e-19be-4e0e-9fd0-8d0209c73e4a"
      },
      "outputs": [
        {
          "output_type": "execute_result",
          "data": {
            "text/latex": "$\\displaystyle \\left[\\begin{matrix}1 & 0 & 0\\\\0 & 2 & 0\\\\0 & 0 & 2\\end{matrix}\\right]$",
            "text/plain": [
              "Matrix([\n",
              "[1, 0, 0],\n",
              "[0, 2, 0],\n",
              "[0, 0, 2]])"
            ]
          },
          "metadata": {},
          "execution_count": 20
        }
      ],
      "source": [
        "D"
      ]
    },
    {
      "cell_type": "code",
      "execution_count": 21,
      "metadata": {
        "colab": {
          "base_uri": "https://localhost:8080/",
          "height": 0
        },
        "id": "LvW7qhitgi5G",
        "outputId": "869fb16a-42da-4a0b-e240-e0ce3e376d82"
      },
      "outputs": [
        {
          "output_type": "execute_result",
          "data": {
            "text/latex": "$\\displaystyle \\left[\\begin{matrix}-1 & 0 & -1\\\\1 & 1 & 1\\\\1 & 0 & 2\\end{matrix}\\right]$",
            "text/plain": [
              "Matrix([\n",
              "[-1, 0, -1],\n",
              "[ 1, 1,  1],\n",
              "[ 1, 0,  2]])"
            ]
          },
          "metadata": {},
          "execution_count": 21
        }
      ],
      "source": [
        "P**-1"
      ]
    },
    {
      "cell_type": "code",
      "execution_count": 22,
      "metadata": {
        "colab": {
          "base_uri": "https://localhost:8080/",
          "height": 0
        },
        "id": "Wm47KLlEQwgH",
        "outputId": "db7aef4b-bca3-4eca-c044-915238275f51"
      },
      "outputs": [
        {
          "output_type": "execute_result",
          "data": {
            "text/latex": "$\\displaystyle \\left[\\begin{matrix}0 & 0 & -2\\\\1 & 2 & 1\\\\1 & 0 & 3\\end{matrix}\\right]$",
            "text/plain": [
              "Matrix([\n",
              "[0, 0, -2],\n",
              "[1, 2,  1],\n",
              "[1, 0,  3]])"
            ]
          },
          "metadata": {},
          "execution_count": 22
        }
      ],
      "source": [
        "P * D * P**-1"
      ]
    },
    {
      "cell_type": "code",
      "execution_count": 23,
      "metadata": {
        "colab": {
          "base_uri": "https://localhost:8080/",
          "height": 0
        },
        "id": "k0p8L0tJhfI8",
        "outputId": "d974773e-0b10-4ca3-c209-5660c4f05f23"
      },
      "outputs": [
        {
          "output_type": "execute_result",
          "data": {
            "text/latex": "$\\displaystyle \\left[\\begin{matrix}-8190 & 0 & -16382\\\\8191 & 8192 & 8191\\\\8191 & 0 & 16383\\end{matrix}\\right]$",
            "text/plain": [
              "Matrix([\n",
              "[-8190,    0, -16382],\n",
              "[ 8191, 8192,   8191],\n",
              "[ 8191,    0,  16383]])"
            ]
          },
          "metadata": {},
          "execution_count": 23
        }
      ],
      "source": [
        "M**13"
      ]
    },
    {
      "cell_type": "code",
      "execution_count": 24,
      "metadata": {
        "colab": {
          "base_uri": "https://localhost:8080/",
          "height": 0
        },
        "id": "XvrlXTiOhnpX",
        "outputId": "b337adb6-032b-4b9d-a534-363bea178e21"
      },
      "outputs": [
        {
          "output_type": "execute_result",
          "data": {
            "text/latex": "$\\displaystyle \\left[\\begin{matrix}-8190 & 0 & -16382\\\\8191 & 8192 & 8191\\\\8191 & 0 & 16383\\end{matrix}\\right]$",
            "text/plain": [
              "Matrix([\n",
              "[-8190,    0, -16382],\n",
              "[ 8191, 8192,   8191],\n",
              "[ 8191,    0,  16383]])"
            ]
          },
          "metadata": {},
          "execution_count": 24
        }
      ],
      "source": [
        "P*D**13*P**-1"
      ]
    },
    {
      "cell_type": "code",
      "execution_count": 25,
      "metadata": {
        "colab": {
          "base_uri": "https://localhost:8080/"
        },
        "id": "PpkdgOUFed70",
        "outputId": "9e41b4bd-f545-455d-d4cd-e428a2b110f6"
      },
      "outputs": [
        {
          "output_type": "execute_result",
          "data": {
            "text/plain": [
              "[(1, 1, [Matrix([\n",
              "   [ 1/8],\n",
              "   [-1/8],\n",
              "   [   1]])]), (2, 2, [Matrix([\n",
              "   [0],\n",
              "   [0],\n",
              "   [1]])])]"
            ]
          },
          "metadata": {},
          "execution_count": 25
        }
      ],
      "source": [
        "from sympy import *\n",
        "M = Matrix([[1,0,0],[1,2,0],[-3,5,2]]) #Matrix is not diagonalizable\n",
        "M.eigenvects()"
      ]
    },
    {
      "cell_type": "markdown",
      "metadata": {
        "id": "CM9uaYzGIrG8"
      },
      "source": [
        "#Singular Value Decomposition"
      ]
    },
    {
      "cell_type": "markdown",
      "metadata": {
        "id": "B1q4-sEieeX2"
      },
      "source": [
        "Find Singular value decomposition of following matrix $A$\n",
        "$$\\begin{bmatrix}4&0\\\\3&-5\\end{bmatrix}$$\n",
        "Objective is to decompose $A$ as $U\\Sigma V^T$ "
      ]
    },
    {
      "cell_type": "markdown",
      "metadata": {
        "id": "-DmQ-3_lF7Cp"
      },
      "source": [
        "## Find $A^T$"
      ]
    },
    {
      "cell_type": "code",
      "execution_count": 26,
      "metadata": {
        "colab": {
          "base_uri": "https://localhost:8080/",
          "height": 57
        },
        "id": "Y_6dFZFwGEiw",
        "outputId": "637b1ffa-59c3-496e-d4f1-229c48fbaecf"
      },
      "outputs": [
        {
          "output_type": "execute_result",
          "data": {
            "text/latex": "$\\displaystyle \\left[\\begin{matrix}4 & 8\\\\3 & 6\\end{matrix}\\right]$",
            "text/plain": [
              "Matrix([\n",
              "[4, 8],\n",
              "[3, 6]])"
            ]
          },
          "metadata": {},
          "execution_count": 26
        }
      ],
      "source": [
        "from sympy import *\n",
        "A = Matrix([[4 ,3],[8, 6]])\n",
        "ATrans=A.transpose()\n",
        "ATrans"
      ]
    },
    {
      "cell_type": "markdown",
      "metadata": {
        "id": "XEMu4DODGZcQ"
      },
      "source": [
        "## Find $A^TA$ (Let it be $C$)"
      ]
    },
    {
      "cell_type": "code",
      "execution_count": 27,
      "metadata": {
        "colab": {
          "base_uri": "https://localhost:8080/",
          "height": 57
        },
        "id": "s_J8SUhAGbQw",
        "outputId": "b14c0507-dc20-4e4d-e76f-b258114d09d1"
      },
      "outputs": [
        {
          "output_type": "execute_result",
          "data": {
            "text/latex": "$\\displaystyle \\left[\\begin{matrix}80 & 60\\\\60 & 45\\end{matrix}\\right]$",
            "text/plain": [
              "Matrix([\n",
              "[80, 60],\n",
              "[60, 45]])"
            ]
          },
          "metadata": {},
          "execution_count": 27
        }
      ],
      "source": [
        "C=ATrans*A\n",
        "C"
      ]
    },
    {
      "cell_type": "markdown",
      "metadata": {
        "id": "J0KP2NnQGtEY"
      },
      "source": [
        "## Find eigen values of $C$"
      ]
    },
    {
      "cell_type": "code",
      "execution_count": 28,
      "metadata": {
        "colab": {
          "base_uri": "https://localhost:8080/"
        },
        "id": "tBkcfXgeGUpY",
        "outputId": "6e0dd45a-7bc9-48ea-f068-95e80c51234a"
      },
      "outputs": [
        {
          "output_type": "execute_result",
          "data": {
            "text/plain": [
              "{0: 1, 125: 1}"
            ]
          },
          "metadata": {},
          "execution_count": 28
        }
      ],
      "source": [
        "C.eigenvals()"
      ]
    },
    {
      "cell_type": "markdown",
      "metadata": {
        "id": "d7FGZv4xHFIQ"
      },
      "source": [
        "## Compute $\\Sigma$ (Let it be $S$)"
      ]
    },
    {
      "cell_type": "code",
      "execution_count": 29,
      "metadata": {
        "colab": {
          "base_uri": "https://localhost:8080/",
          "height": 57
        },
        "id": "gxvVj6FzHAhx",
        "outputId": "f0eec77c-0f05-47c1-8195-eff77bcd1c89"
      },
      "outputs": [
        {
          "output_type": "execute_result",
          "data": {
            "text/latex": "$\\displaystyle \\left[\\begin{matrix}11.1803398874989 & 0\\\\0 & 0.0\\end{matrix}\\right]$",
            "text/plain": [
              "Matrix([\n",
              "[11.1803398874989,   0],\n",
              "[               0, 0.0]])"
            ]
          },
          "metadata": {},
          "execution_count": 29
        }
      ],
      "source": [
        "import numpy as np\n",
        "S=Matrix([[np.sqrt(125) ,0],[0, np.sqrt(0)]])\n",
        "S"
      ]
    },
    {
      "cell_type": "markdown",
      "metadata": {
        "id": "-4UgaRo2Hvjn"
      },
      "source": [
        "## Find eigen vectors of $A^TA$ and normalize it"
      ]
    },
    {
      "cell_type": "code",
      "execution_count": 30,
      "metadata": {
        "colab": {
          "base_uri": "https://localhost:8080/"
        },
        "id": "k26Pw9UmH97g",
        "outputId": "2958dd67-31ac-4bad-a879-e432371c27a7"
      },
      "outputs": [
        {
          "output_type": "execute_result",
          "data": {
            "text/plain": [
              "[(0, 1, [Matrix([\n",
              "   [-3/4],\n",
              "   [   1]])]), (125, 1, [Matrix([\n",
              "   [4/3],\n",
              "   [  1]])])]"
            ]
          },
          "metadata": {},
          "execution_count": 30
        }
      ],
      "source": [
        "x=C.eigenvects()\n",
        "x"
      ]
    },
    {
      "cell_type": "code",
      "execution_count": 31,
      "metadata": {
        "colab": {
          "base_uri": "https://localhost:8080/"
        },
        "id": "wZOjXAHNIfQo",
        "outputId": "b27db016-037f-44f1-db72-2887e6542c49"
      },
      "outputs": [
        {
          "output_type": "stream",
          "name": "stdout",
          "text": [
            "[[0.8]\n",
            " [0.6]]\n"
          ]
        }
      ],
      "source": [
        "#Normalizing eigen vector correponding to eigen value 125\n",
        "import numpy as np\n",
        "x1 = np.array([[4/3],[1]])\n",
        "normalized_x1 = x1/np.linalg.norm(x1)\n",
        "print(normalized_x1)"
      ]
    },
    {
      "cell_type": "code",
      "execution_count": 32,
      "metadata": {
        "colab": {
          "base_uri": "https://localhost:8080/"
        },
        "id": "Wo1kWTnKIv_w",
        "outputId": "a11d951a-fc30-4eb1-a62b-bd7e130689bb"
      },
      "outputs": [
        {
          "output_type": "stream",
          "name": "stdout",
          "text": [
            "[[-0.6]\n",
            " [ 0.8]]\n"
          ]
        }
      ],
      "source": [
        "#Normalizing eigen vector correponding to eigen value 10\n",
        "import numpy as np\n",
        "x2 = np.array([[-3/4],[1]])\n",
        "normalized_x2 = x2/np.linalg.norm(x2)\n",
        "print(normalized_x2)"
      ]
    },
    {
      "cell_type": "markdown",
      "metadata": {
        "id": "43rSv-zVI8z3"
      },
      "source": [
        "## Formulate $V$ and find $V^T$"
      ]
    },
    {
      "cell_type": "code",
      "execution_count": 33,
      "metadata": {
        "colab": {
          "base_uri": "https://localhost:8080/",
          "height": 57
        },
        "id": "WDarqGPiJj4Y",
        "outputId": "d35741b0-bdd0-4aa2-8b5c-1c869fb7ffaa"
      },
      "outputs": [
        {
          "output_type": "execute_result",
          "data": {
            "text/latex": "$\\displaystyle \\left[\\begin{matrix}0.8 & -0.6\\\\0.6 & 0.8\\end{matrix}\\right]$",
            "text/plain": [
              "Matrix([\n",
              "[0.8, -0.6],\n",
              "[0.6,  0.8]])"
            ]
          },
          "metadata": {},
          "execution_count": 33
        }
      ],
      "source": [
        "#V=[normalized_x1 normalized_x2]\n",
        "V=Matrix([[0.8,-0.6],[0.6,0.8]])\n",
        "V"
      ]
    },
    {
      "cell_type": "code",
      "execution_count": 34,
      "metadata": {
        "colab": {
          "base_uri": "https://localhost:8080/",
          "height": 57
        },
        "id": "RUbyZFjmKRE3",
        "outputId": "2384ec8a-cdf1-4bfc-a303-75db40574a30"
      },
      "outputs": [
        {
          "output_type": "execute_result",
          "data": {
            "text/latex": "$\\displaystyle \\left[\\begin{matrix}0.8 & 0.6\\\\-0.6 & 0.8\\end{matrix}\\right]$",
            "text/plain": [
              "Matrix([\n",
              "[ 0.8, 0.6],\n",
              "[-0.6, 0.8]])"
            ]
          },
          "metadata": {},
          "execution_count": 34
        }
      ],
      "source": [
        "VTrans=V.transpose()\n",
        "VTrans"
      ]
    },
    {
      "cell_type": "markdown",
      "metadata": {
        "id": "gi2bXQXL8EA1"
      },
      "source": [
        "## Find $A.A^T$, Let it be D"
      ]
    },
    {
      "cell_type": "code",
      "execution_count": 35,
      "metadata": {
        "colab": {
          "base_uri": "https://localhost:8080/",
          "height": 57
        },
        "id": "4_jxJZUY8EA1",
        "outputId": "92a2ead3-cf42-4ab7-ce07-b341d2c32598"
      },
      "outputs": [
        {
          "output_type": "execute_result",
          "data": {
            "text/latex": "$\\displaystyle \\left[\\begin{matrix}25 & 50\\\\50 & 100\\end{matrix}\\right]$",
            "text/plain": [
              "Matrix([\n",
              "[25,  50],\n",
              "[50, 100]])"
            ]
          },
          "metadata": {},
          "execution_count": 35
        }
      ],
      "source": [
        "D=A*ATrans\n",
        "D"
      ]
    },
    {
      "cell_type": "markdown",
      "metadata": {
        "id": "Nc5-T1wV8EA3"
      },
      "source": [
        "## Find Eigen vectors of $AA^T$ and normalize it"
      ]
    },
    {
      "cell_type": "code",
      "execution_count": 36,
      "metadata": {
        "colab": {
          "base_uri": "https://localhost:8080/"
        },
        "id": "M-XwPS538EA3",
        "outputId": "00ef5d0f-72a2-4864-e586-e7c4e0139ebd"
      },
      "outputs": [
        {
          "output_type": "execute_result",
          "data": {
            "text/plain": [
              "[(0, 1, [Matrix([\n",
              "   [-2],\n",
              "   [ 1]])]), (125, 1, [Matrix([\n",
              "   [1/2],\n",
              "   [  1]])])]"
            ]
          },
          "metadata": {},
          "execution_count": 36
        }
      ],
      "source": [
        "y=D.eigenvects()\n",
        "y"
      ]
    },
    {
      "cell_type": "code",
      "execution_count": 37,
      "metadata": {
        "id": "VH0HRjSS8EA3",
        "colab": {
          "base_uri": "https://localhost:8080/"
        },
        "outputId": "3bdda462-072f-4f9d-bed5-884014f1c38b"
      },
      "outputs": [
        {
          "output_type": "stream",
          "name": "stdout",
          "text": [
            "[[0.4472136 ]\n",
            " [0.89442719]]\n"
          ]
        }
      ],
      "source": [
        "#Normalizing eigen vector correponding to eigen value 125\n",
        "import numpy as np\n",
        "y1 = np.array([[1/2],[1]])\n",
        "normalized_y1 = y1/np.linalg.norm(y1)\n",
        "print(normalized_y1)"
      ]
    },
    {
      "cell_type": "code",
      "execution_count": 38,
      "metadata": {
        "colab": {
          "base_uri": "https://localhost:8080/"
        },
        "id": "9wH74YGF8EA4",
        "outputId": "a4765368-324a-4bd2-93c8-c60f86370b2f"
      },
      "outputs": [
        {
          "output_type": "stream",
          "name": "stdout",
          "text": [
            "[[-0.89442719]\n",
            " [ 0.4472136 ]]\n"
          ]
        }
      ],
      "source": [
        "#Normalizing eigen vector correponding to eigen value 0\n",
        "import numpy as np\n",
        "y2 = np.array([[-2],[1]])\n",
        "normalized_y2 = y2/np.linalg.norm(y2)\n",
        "print(normalized_y2)"
      ]
    },
    {
      "cell_type": "markdown",
      "metadata": {
        "id": "xUQq4qjs8EA4"
      },
      "source": [
        "## Formulate U"
      ]
    },
    {
      "cell_type": "code",
      "execution_count": 39,
      "metadata": {
        "colab": {
          "base_uri": "https://localhost:8080/",
          "height": 57
        },
        "id": "9NM8F8Zt8EA4",
        "outputId": "4dada821-e5a3-4931-ab05-93c0abd98599"
      },
      "outputs": [
        {
          "output_type": "execute_result",
          "data": {
            "text/latex": "$\\displaystyle \\left[\\begin{matrix}0.4472136 & -0.89442719\\\\0.89442719 & 0.4472136\\end{matrix}\\right]$",
            "text/plain": [
              "Matrix([\n",
              "[ 0.4472136, -0.89442719],\n",
              "[0.89442719,   0.4472136]])"
            ]
          },
          "metadata": {},
          "execution_count": 39
        }
      ],
      "source": [
        "#U=[normalized_y1 normalized_y2]\n",
        "U=Matrix([[0.4472136,-0.89442719 ],[0.89442719 ,0.4472136]])\n",
        "U"
      ]
    },
    {
      "cell_type": "markdown",
      "metadata": {
        "id": "dKpxoxIN8EA4"
      },
      "source": [
        "## Verify $A=U\\Sigma V^T$ (Note S is variable used for $\\Sigma$)"
      ]
    },
    {
      "cell_type": "code",
      "execution_count": 40,
      "metadata": {
        "colab": {
          "base_uri": "https://localhost:8080/",
          "height": 57
        },
        "id": "h6cXYTOt8EA5",
        "outputId": "5ffc75ca-2b40-4d4d-88d6-b1ff0932b191"
      },
      "outputs": [
        {
          "output_type": "execute_result",
          "data": {
            "text/latex": "$\\displaystyle \\left[\\begin{matrix}4 & 3\\\\8 & 6\\end{matrix}\\right]$",
            "text/plain": [
              "Matrix([\n",
              "[4, 3],\n",
              "[8, 6]])"
            ]
          },
          "metadata": {},
          "execution_count": 40
        }
      ],
      "source": [
        "A"
      ]
    },
    {
      "cell_type": "code",
      "execution_count": 41,
      "metadata": {
        "colab": {
          "base_uri": "https://localhost:8080/",
          "height": 57
        },
        "id": "jKnxg2jU8EA5",
        "outputId": "10f47eab-9922-4ab4-9663-ee79d8df988b"
      },
      "outputs": [
        {
          "output_type": "execute_result",
          "data": {
            "text/latex": "$\\displaystyle \\left[\\begin{matrix}4.0000000402496 & 3.0000000301872\\\\7.99999999105648 & 5.99999999329236\\end{matrix}\\right]$",
            "text/plain": [
              "Matrix([\n",
              "[ 4.0000000402496,  3.0000000301872],\n",
              "[7.99999999105648, 5.99999999329236]])"
            ]
          },
          "metadata": {},
          "execution_count": 41
        }
      ],
      "source": [
        "U*S*VTrans"
      ]
    },
    {
      "cell_type": "markdown",
      "source": [
        "## Using svd function"
      ],
      "metadata": {
        "id": "wWZZvg101Sov"
      }
    },
    {
      "cell_type": "code",
      "source": [
        "a=np.array([[4,3],[8,6]])\n",
        "u,s,vt=np.linalg.svd(a)"
      ],
      "metadata": {
        "id": "fK4xUrep1YlQ"
      },
      "execution_count": 42,
      "outputs": []
    },
    {
      "cell_type": "code",
      "source": [
        "u"
      ],
      "metadata": {
        "colab": {
          "base_uri": "https://localhost:8080/"
        },
        "id": "JhUOSp361mO-",
        "outputId": "1500a19b-ad21-4a1e-fe87-53ec1c3d8cce"
      },
      "execution_count": 43,
      "outputs": [
        {
          "output_type": "execute_result",
          "data": {
            "text/plain": [
              "array([[-0.4472136 , -0.89442719],\n",
              "       [-0.89442719,  0.4472136 ]])"
            ]
          },
          "metadata": {},
          "execution_count": 43
        }
      ]
    },
    {
      "cell_type": "code",
      "source": [
        "s"
      ],
      "metadata": {
        "colab": {
          "base_uri": "https://localhost:8080/"
        },
        "id": "RQimIIKH1r0W",
        "outputId": "16a9d06c-c678-4df1-9e1a-848eb933a7f0"
      },
      "execution_count": 44,
      "outputs": [
        {
          "output_type": "execute_result",
          "data": {
            "text/plain": [
              "array([1.11803399e+01, 1.15750506e-15])"
            ]
          },
          "metadata": {},
          "execution_count": 44
        }
      ]
    },
    {
      "cell_type": "code",
      "source": [
        "vt"
      ],
      "metadata": {
        "colab": {
          "base_uri": "https://localhost:8080/"
        },
        "id": "SvTG-8J91zaY",
        "outputId": "f1aaebd9-c924-4dd0-8bb2-86f99f9ccb57"
      },
      "execution_count": 45,
      "outputs": [
        {
          "output_type": "execute_result",
          "data": {
            "text/plain": [
              "array([[-0.8, -0.6],\n",
              "       [-0.6,  0.8]])"
            ]
          },
          "metadata": {},
          "execution_count": 45
        }
      ]
    },
    {
      "cell_type": "markdown",
      "metadata": {
        "id": "8viInbdO8EA5"
      },
      "source": [
        "**Note that eigenvectors are not unique. Multiplying by any constant, including -1 (which simply changes the sign), gives another valid eigenvector**"
      ]
    },
    {
      "cell_type": "markdown",
      "metadata": {
        "id": "fQ6qbw9dNOGw"
      },
      "source": [
        "#Solving First Order Linear Systems"
      ]
    },
    {
      "cell_type": "markdown",
      "metadata": {
        "id": "KYjrTpYYtMZB"
      },
      "source": [
        "A **differential equation** is an equation involving unknown function and their derivatives. The **order** of a differential equation is the order of the highest derivative it contains.\n",
        "\n",
        "The simplest differential equation are the **first-order** equations of the form $y'=ay$, where $y=f(x)$ is an unknown differentiable function, $y'=\\frac{dy}{dx}$ is its derivative and $a$ is a constant. This equations has infinitely many solutions and they are of the form $y=ce^{ax}$, otherwise known as **general** solution.\n",
        "\n",
        "A condition which specifies the value of the general solution at a point is called an **initial** condition, and the problem of solving a differential equation subject to an initial condition is called an **initial-value problem**\n",
        "\n",
        "$y(0)=6$ is an example of initial condition, which means $y=6$ when $x=0$\n",
        "\n",
        "Collection of first order differential equations is also known as **First-order linear systems**"
      ]
    },
    {
      "cell_type": "markdown",
      "metadata": {
        "id": "ePAOOKPfyMp3"
      },
      "source": [
        "## Case: Each equation involved has only one of the unknown functions "
      ]
    },
    {
      "cell_type": "markdown",
      "metadata": {
        "id": "WY5n1x5zyXWe"
      },
      "source": [
        "Find the solution of the following first order linear system\n",
        "$$y_1^{'}=3y_1$$\n",
        "$$y_2^{'}=-2y_2$$\n",
        "$$y_3^{'}=5y_3$$\n",
        "that satisfies the initial conditions $y_1(0)=1,y_2(0)=4$ and $y_3(0)=-2$"
      ]
    },
    {
      "cell_type": "markdown",
      "metadata": {
        "id": "kfWhBNIMzsld"
      },
      "source": [
        "**Step-1 : Write system in matrix form**\n",
        "\n",
        "$$\\begin{bmatrix}y_1^{'}\\\\y_2^{'}\\\\y_3^{'} \\end{bmatrix}=\\begin{bmatrix}3&0&0\\\\0&-2&0\\\\0&0&5 \\end{bmatrix}\\begin{bmatrix}y_1\\\\y_2\\\\y_3 \\end{bmatrix}$$\n",
        "**Step-2 : Find general solution**\n",
        "$$y=\\begin{bmatrix}y_1\\\\y_2\\\\y_3 \\end{bmatrix}=\\begin{bmatrix}c_1e^{-3x}\\\\c_2e^{-2x}\\\\c_3e^{5x} \\end{bmatrix}$$\n",
        "**Step-3 : Find solution satisfying initial conditions**\n",
        "\n",
        "From given initial conditions, we obtain $c_1=1,c_2=4$ and $c_3=-2$\n",
        "\n",
        "Solutions satisfying this conditions are $y_1=e^{3x},y_2=4e^{-2x},y_3=-2e^{5x}$\n"
      ]
    },
    {
      "cell_type": "markdown",
      "metadata": {
        "id": "K94uCQVk-KMo"
      },
      "source": [
        "# Assignment-5"
      ]
    },
    {
      "cell_type": "markdown",
      "metadata": {
        "id": "EwipzyTu_MG1"
      },
      "source": [
        "## Question-1"
      ]
    },
    {
      "cell_type": "markdown",
      "metadata": {
        "id": "wHD59vz1-Pzb"
      },
      "source": [
        "Find inverse of following matrix $A$\n",
        "$$\\begin{bmatrix}\n",
        "1 & 2 & 3\\\\\n",
        "1 & 1 & 4\\\\\n",
        "2 & 1 & 5\n",
        "\\end{bmatrix}$$\n",
        "\n",
        "(Note: Detailed steps required)"
      ]
    },
    {
      "cell_type": "markdown",
      "metadata": {
        "id": "7JjZq3ml_QAy"
      },
      "source": [
        "## Question-2\n"
      ]
    },
    {
      "cell_type": "markdown",
      "metadata": {
        "id": "9CgwHME0_yJ1"
      },
      "source": [
        "Using Cramer's rule find solutions for following linear system (Change values)\n",
        "$$x_1+2x_2+3x_3=2$$\n",
        "$$x_1+x_2+4x_3=2$$\n",
        "$$2x_1+x_2+5x_3=2$$\n",
        "\n",
        "(Note: Detailed steps required)"
      ]
    },
    {
      "cell_type": "markdown",
      "metadata": {
        "id": "qC5QbSbuB-dI"
      },
      "source": [
        "## Question-3"
      ]
    },
    {
      "cell_type": "markdown",
      "metadata": {
        "id": "9HKniwuHCPb2"
      },
      "source": [
        "Find eigenvalues and eigenvectors of following matrix $A$\n",
        "$$\\begin{bmatrix}\n",
        "3 & 0 & 0\\\\\n",
        "-2 & 7 & 0\\\\\n",
        "4 & 8 & 1\n",
        "\\end{bmatrix}$$\n",
        "\n",
        "(Note: Detailed steps required)"
      ]
    },
    {
      "cell_type": "markdown",
      "metadata": {
        "id": "kp9BscY0EO_D"
      },
      "source": [
        "## Question-4"
      ]
    },
    {
      "cell_type": "markdown",
      "metadata": {
        "id": "iNZrodPBEPIc"
      },
      "source": [
        "Find SVD of following matrix $A$\n",
        "$$\\begin{bmatrix}1&1\\\\0&1\\\\1&0 \\end{bmatrix}$$\n",
        "(Note: Detailed steps required)"
      ]
    },
    {
      "cell_type": "markdown",
      "metadata": {
        "id": "r2JblEzfFAt-"
      },
      "source": [
        "## Question-5"
      ]
    },
    {
      "cell_type": "markdown",
      "metadata": {
        "id": "xLl5mj3dFAwx"
      },
      "source": [
        "Find the solution of the following first order linear system\n",
        "$$y_1^{'}=4y_1$$\n",
        "$$y_2^{'}=-3y_2$$\n",
        "$$y_3^{'}=11y_3$$\n",
        "that satisfies the initial conditions $y_1(0)=-2,y_2(0)=-14$ and $y_3(0)=-21$\n",
        "\n",
        "(Note: Detailed steps required)"
      ]
    }
  ],
  "metadata": {
    "colab": {
      "collapsed_sections": [
        "Xuk_omcWRcjQ",
        "qi3GEvXPRiWq",
        "a0aDy75xWmz_",
        "CM9uaYzGIrG8",
        "K94uCQVk-KMo",
        "EwipzyTu_MG1"
      ],
      "name": "19MAT105-Week-5.ipynb",
      "provenance": [],
      "authorship_tag": "ABX9TyNDwjLzqTRTXn6/GoiZo+Zr",
      "include_colab_link": true
    },
    "kernelspec": {
      "display_name": "Python 3",
      "name": "python3"
    },
    "language_info": {
      "name": "python"
    }
  },
  "nbformat": 4,
  "nbformat_minor": 0
}