{
  "nbformat": 4,
  "nbformat_minor": 0,
  "metadata": {
    "colab": {
      "name": "19MAT105-Week-1.ipynb",
      "provenance": [],
      "authorship_tag": "ABX9TyNCTusM3EpPCcBcZgM4Is9f",
      "include_colab_link": true
    },
    "kernelspec": {
      "name": "python3",
      "display_name": "Python 3"
    },
    "language_info": {
      "name": "python"
    }
  },
  "cells": [
    {
      "cell_type": "markdown",
      "metadata": {
        "id": "view-in-github",
        "colab_type": "text"
      },
      "source": [
        "<a href=\"https://colab.research.google.com/github/Jayku88/Linear-Algebra/blob/main/19MAT105_Week_1.ipynb\" target=\"_parent\"><img src=\"https://colab.research.google.com/assets/colab-badge.svg\" alt=\"Open In Colab\"/></a>"
      ]
    },
    {
      "cell_type": "markdown",
      "metadata": {
        "id": "TVUDWng9AFXp"
      },
      "source": [
        "# Three Cases of solutions ($2$ equations, $2$ unknowns)"
      ]
    },
    {
      "cell_type": "markdown",
      "metadata": {
        "id": "THMA6HvgA28h"
      },
      "source": [
        "## Case-1 (Exactly $1$ solution)"
      ]
    },
    {
      "cell_type": "markdown",
      "metadata": {
        "id": "Z64BQniES_wU"
      },
      "source": [
        "**Solve**\n",
        "$$x-y=1$$\n",
        "$$2x+y=5$$"
      ]
    },
    {
      "cell_type": "markdown",
      "metadata": {
        "id": "EPHjDEF8TRVe"
      },
      "source": [
        "### Code"
      ]
    },
    {
      "cell_type": "code",
      "metadata": {
        "id": "q_QeuhZMS6fe"
      },
      "source": [
        "from sympy import symbols, Eq, solve\n",
        "x, y = symbols('x y')\n",
        "eq1 = Eq(x-y-1 , 0)\n",
        "eq2 = Eq(2*x+y-5, 0)\n",
        "solve((eq1,eq2), (x, y))"
      ],
      "execution_count": null,
      "outputs": []
    },
    {
      "cell_type": "markdown",
      "metadata": {
        "id": "ZpdvixpoTWtN"
      },
      "source": [
        "### Visualization"
      ]
    },
    {
      "cell_type": "code",
      "metadata": {
        "id": "dokC69PI5c0h"
      },
      "source": [
        "import matplotlib.pyplot as plt\n",
        "import numpy as np\n",
        "x=np.linspace(-2, 6, num=100)\n",
        "y1 = x-1\n",
        "y2 =  -2*x+5\n",
        "fig, ax = plt.subplots()\n",
        "ax.plot(x, y1,label='$x-y=1$')\n",
        "ax.plot(x, y2,label='$2x+y=5$')\n",
        "ax.spines['top'].set_color('none')\n",
        "ax.spines['bottom'].set_position('zero')\n",
        "ax.spines['left'].set_position('zero')\n",
        "ax.spines['right'].set_color('none')\n",
        "ax.set_xlim([-4,8])\n",
        "ax.set_ylim([-4,8])\n",
        "ax.set_xticks(range(-2, 8, 1))\n",
        "ax.set_yticks(range(-2, 8, 1))\n",
        "plt.scatter(2,1,color=\"red\")\n",
        "plt.annotate('x=2,y=1',(2.3,1))\n",
        "plt.xlabel('$x$')\n",
        "plt.ylabel('$y$')\n",
        "plt.legend()\n",
        "plt.grid()"
      ],
      "execution_count": null,
      "outputs": []
    },
    {
      "cell_type": "markdown",
      "metadata": {
        "id": "WfpaxOK7BYbh"
      },
      "source": [
        "## Case-2 (Infinite number of solutions)"
      ]
    },
    {
      "cell_type": "markdown",
      "metadata": {
        "id": "7qm-k1d-TjGt"
      },
      "source": [
        "### Solve\n",
        "$$4x-2y=1$$\n",
        "$$16x-8y=4$$"
      ]
    },
    {
      "cell_type": "markdown",
      "metadata": {
        "id": "POv_5hS2TzN2"
      },
      "source": [
        "### Code"
      ]
    },
    {
      "cell_type": "code",
      "metadata": {
        "id": "MIJ0s2MTT2k9"
      },
      "source": [
        "from sympy import symbols, Eq, solve\n",
        "x, y = symbols('x y')\n",
        "eq1 = Eq(4*x-2*y-1 , 0)\n",
        "eq2 = Eq(16*x-8*y-4, 0)\n",
        "solve((eq1,eq2), (x, y))"
      ],
      "execution_count": null,
      "outputs": []
    },
    {
      "cell_type": "markdown",
      "metadata": {
        "id": "_RKMzUYvT28G"
      },
      "source": [
        "### Visualization"
      ]
    },
    {
      "cell_type": "code",
      "metadata": {
        "id": "Sz3zwhR2T3Zu"
      },
      "source": [
        "import matplotlib.pyplot as plt\n",
        "import numpy as np\n",
        "x=np.linspace(-2, 6, num=100)\n",
        "y1 = (4*x-1)/2\n",
        "y2 =  (16*x-4)/8\n",
        "fig, ax = plt.subplots()\n",
        "ax.plot(x, y1,label='$4x-2y=1$')\n",
        "ax.plot(x, y2,label='$16x-8y=4$')\n",
        "ax.spines['top'].set_color('none')\n",
        "ax.spines['bottom'].set_position('zero')\n",
        "ax.spines['left'].set_position('zero')\n",
        "ax.spines['right'].set_color('none')\n",
        "ax.set_xlim([-4,8])\n",
        "ax.set_ylim([-4,8])\n",
        "ax.set_xticks(range(-2, 8, 1))\n",
        "ax.set_yticks(range(-2, 8, 1))\n",
        "plt.xlabel('$x$')\n",
        "plt.ylabel('$y$')\n",
        "plt.legend()\n",
        "plt.grid()"
      ],
      "execution_count": null,
      "outputs": []
    },
    {
      "cell_type": "markdown",
      "metadata": {
        "id": "j2aBhftKBuDx"
      },
      "source": [
        "## Case-3 (No solution)"
      ]
    },
    {
      "cell_type": "markdown",
      "metadata": {
        "id": "8JmKbsJVUOqW"
      },
      "source": [
        "### Solve\n",
        "$$x+y=4$$\n",
        "$$3x+3y=6$$"
      ]
    },
    {
      "cell_type": "markdown",
      "metadata": {
        "id": "7sVSLQl8UTuH"
      },
      "source": [
        "### Code"
      ]
    },
    {
      "cell_type": "code",
      "metadata": {
        "id": "Y7AE5MQlUMku"
      },
      "source": [
        "from sympy import symbols, Eq, solve\n",
        "x, y = symbols('x y')\n",
        "eq1 = Eq(y + x -4 , 0)\n",
        "eq2 = Eq(3*y + 3*x  - 6, 0)\n",
        "solve((eq1,eq2), (x, y))"
      ],
      "execution_count": null,
      "outputs": []
    },
    {
      "cell_type": "markdown",
      "metadata": {
        "id": "9sWzF-1kUWgH"
      },
      "source": [
        "### Visualization"
      ]
    },
    {
      "cell_type": "code",
      "metadata": {
        "id": "7TVziNBL3uOv"
      },
      "source": [
        "import matplotlib.pyplot as plt\n",
        "import numpy as np\n",
        "x=np.linspace(-2, 6, num=100)\n",
        "y1 = 4-x\n",
        "y2 =  (6-3*x)/3\n",
        "fig, ax = plt.subplots()\n",
        "ax.plot(x, y1,label='$x+y=4$')\n",
        "ax.plot(x, y2,label='$3x+3y=6$')\n",
        "ax.spines['top'].set_color('none')\n",
        "ax.spines['bottom'].set_position('zero')\n",
        "ax.spines['left'].set_position('zero')\n",
        "ax.spines['right'].set_color('none')\n",
        "ax.set_xlim([-4,8])\n",
        "ax.set_ylim([-4,8])\n",
        "ax.set_xticks(range(-2, 8, 1))\n",
        "ax.set_yticks(range(-2, 8, 1))\n",
        "plt.xlabel('$x$')\n",
        "plt.ylabel('$y$')\n",
        "plt.legend()\n",
        "plt.grid()"
      ],
      "execution_count": null,
      "outputs": []
    },
    {
      "cell_type": "markdown",
      "metadata": {
        "id": "pI5iX4x7UwPJ"
      },
      "source": [
        "# Reduced Row Echelon Form"
      ]
    },
    {
      "cell_type": "markdown",
      "metadata": {
        "id": "q9pRIGSsVtMR"
      },
      "source": [
        "Find Reduced Row Echelon form of folowing matrix\n",
        "\\begin{bmatrix}\n",
        "2 & 4 & -2 & 2\\\\\n",
        "4 & 9 & -3 & 8\\\\\n",
        "-2 & -3 & 7 &10\n",
        "\\end{bmatrix}"
      ]
    },
    {
      "cell_type": "markdown",
      "metadata": {
        "id": "-wm3GGMDWrbD"
      },
      "source": [
        "## Code"
      ]
    },
    {
      "cell_type": "code",
      "metadata": {
        "id": "wy8y-wccUUg_"
      },
      "source": [
        "from sympy import * \n",
        "  \n",
        "M = Matrix([[2, 4, -2, 2], [4, 9, -3, 8], [-2, -3, 7, 10]])\n",
        "print(\"Matrix : {} \".format(M))\n",
        "   \n",
        "# Use sympy.rref() method \n",
        "M_rref = M.rref()  \n",
        "      \n",
        "print(\"The Row echelon form of matrix M and the pivot columns : {}\".format(M_rref)) "
      ],
      "execution_count": null,
      "outputs": []
    },
    {
      "cell_type": "markdown",
      "metadata": {
        "id": "A-tBVto5W1_q"
      },
      "source": [
        "## Detailed explanation"
      ]
    },
    {
      "cell_type": "markdown",
      "metadata": {
        "id": "wtnGgmxlj6rV"
      },
      "source": [
        "**Initial Augmented Matrix**\n",
        "\\begin{bmatrix}\n",
        "2 & 4 & -2 & 2\\\\\n",
        "4 & 9 & -3 & 8\\\\\n",
        "-2 & -3 & 7 &10\n",
        "\\end{bmatrix}"
      ]
    },
    {
      "cell_type": "markdown",
      "metadata": {
        "id": "_tO9L7zNW_gS"
      },
      "source": [
        "**Elementary operation-1 : $R_1->\\frac{R_1}{2}$**\n",
        "\\begin{bmatrix}\n",
        "1 & 2 & -1 & 1\\\\\n",
        "4 & 9 & -3 & 8\\\\\n",
        "-2 & -3 & 7 &10\n",
        "\\end{bmatrix}"
      ]
    },
    {
      "cell_type": "markdown",
      "metadata": {
        "id": "ByEeM65Ej647"
      },
      "source": [
        "**Elementary operation-2 : $R_2->-4R_1+R_2$**\n",
        "\\begin{bmatrix}\n",
        "1 & 2 & -1 & 1\\\\\n",
        "0 & 1 & 1 & 4\\\\\n",
        "-2 & -3 & 7 &10\n",
        "\\end{bmatrix}"
      ]
    },
    {
      "cell_type": "markdown",
      "metadata": {
        "id": "BZkeYxRnj67r"
      },
      "source": [
        "**Elementary operation-3 : $R_3->2R_1+R_3$**\n",
        "\\begin{bmatrix}\n",
        "1 & 2 & -1 & 1\\\\\n",
        "0 & 1 & 1 & 4\\\\\n",
        "0 & 1 & 5 & 12\n",
        "\\end{bmatrix}"
      ]
    },
    {
      "cell_type": "markdown",
      "metadata": {
        "id": "mh8wMsibj6-9"
      },
      "source": [
        "**Elementary operation-4 : $R_3->R_3-R_2$**\n",
        "\\begin{bmatrix}\n",
        "1 & 2 & -1 & 1\\\\\n",
        "0 & 1 & 1 & 4\\\\\n",
        "0 & 0 & 4 & 8\n",
        "\\end{bmatrix}"
      ]
    },
    {
      "cell_type": "markdown",
      "metadata": {
        "id": "8-XggkhOk2aW"
      },
      "source": [
        "**Elementary operation-5 : $R_3->\\frac{R_3}{4}$**\n",
        "\\begin{bmatrix}\n",
        "1 & 2 & -1 & 1\\\\\n",
        "0 & 1 & 1 & 4\\\\\n",
        "0 & 0 & 1 & 2\n",
        "\\end{bmatrix}"
      ]
    },
    {
      "cell_type": "markdown",
      "metadata": {
        "id": "J3jfLr61k2dN"
      },
      "source": [
        "Now it is in **row echelon form(ref)**"
      ]
    },
    {
      "cell_type": "markdown",
      "metadata": {
        "id": "5Ysar6IXk2fd"
      },
      "source": [
        "**Elementary operation-6 : $R_2->R_3-R_2$**\n",
        "\\begin{bmatrix}\n",
        "1 & 2 & -1 & 1\\\\\n",
        "0 & 1 & 0 & 2\\\\\n",
        "0 & 0 & 1 & 2\n",
        "\\end{bmatrix}"
      ]
    },
    {
      "cell_type": "markdown",
      "metadata": {
        "id": "pUAItlgtk2iZ"
      },
      "source": [
        "**Elementary operation-7 : $R_1->R_1+R_3$**\n",
        "\\begin{bmatrix}\n",
        "1 & 2 & 0 & 3\\\\\n",
        "0 & 1 & 0 & 2\\\\\n",
        "0 & 0 & 1 & 2\n",
        "\\end{bmatrix}"
      ]
    },
    {
      "cell_type": "markdown",
      "metadata": {
        "id": "05122RfPk2lB"
      },
      "source": [
        "**Elementary operation-8 : $R_1->R_1-2R_2$**\n",
        "\\begin{bmatrix}\n",
        "1 & 0 & 0 & -1\\\\\n",
        "0 & 1 & 0 & 2\\\\\n",
        "0 & 0 & 1 & 2\n",
        "\\end{bmatrix}"
      ]
    },
    {
      "cell_type": "markdown",
      "metadata": {
        "id": "h2jDrl_pmQkA"
      },
      "source": [
        "Now it is **row reduced echolen form(rref)**"
      ]
    },
    {
      "cell_type": "markdown",
      "metadata": {
        "id": "K94uCQVk-KMo"
      },
      "source": [
        "# Assignment-1"
      ]
    },
    {
      "cell_type": "markdown",
      "metadata": {
        "id": "EwipzyTu_MG1"
      },
      "source": [
        "## Question-1"
      ]
    },
    {
      "cell_type": "markdown",
      "metadata": {
        "id": "wHD59vz1-Pzb"
      },
      "source": [
        "Check whether the following matrices are in row echelon form or not\n",
        "Justify you answer\n",
        "\n",
        "1.  $\\begin{bmatrix}\n",
        "1 & 0 & 2 & 2\\\\\n",
        "0 & 1 & 0 & 2\\\\\n",
        "0 & 0 & 0 & 1\n",
        "\\end{bmatrix}$\n",
        "2.  $\\begin{bmatrix}\n",
        "1 & 0 & 3 & 2\\\\\n",
        "0 & 0 & 1 & 5\\\\\n",
        "0 & 1 & 0 & 7\n",
        "\\end{bmatrix}$\n",
        "\n"
      ]
    },
    {
      "cell_type": "markdown",
      "metadata": {
        "id": "xB9dHXvM_DBS"
      },
      "source": [
        "**Your Answer Here**"
      ]
    },
    {
      "cell_type": "markdown",
      "metadata": {
        "id": "7JjZq3ml_QAy"
      },
      "source": [
        "## Question-2\n"
      ]
    },
    {
      "cell_type": "markdown",
      "metadata": {
        "id": "9CgwHME0_yJ1"
      },
      "source": [
        "Check whether the following linear system is consistent or not\n",
        "$$7a-b+2c=0$$\n",
        "$$2a+b-c=3$$\n",
        "$$-a-5b-c=-1$$"
      ]
    },
    {
      "cell_type": "markdown",
      "metadata": {
        "id": "IILUJg58B-WI"
      },
      "source": [
        "**Your Answer Here**"
      ]
    },
    {
      "cell_type": "markdown",
      "metadata": {
        "id": "qC5QbSbuB-dI"
      },
      "source": [
        "## Question-3"
      ]
    },
    {
      "cell_type": "markdown",
      "metadata": {
        "id": "9HKniwuHCPb2"
      },
      "source": [
        "Consider the following linear system\n",
        "$$3x_1+2x_2-2x_3=1$$\n",
        "$$2x_1-x_2+x_3=2$$\n",
        "$$x_1+3x_2-3x_3=-1$$\n",
        "Determine which of following is/are solutions of linear systems.\n",
        "\n",
        "\n",
        "1.   $x_1=5,x_2=-4,x_3=0$\n",
        "2.   $x_1=3,x_2=-2,x_3=2$\n",
        "3. $x_1=-3,x_2=0,x_3=5$\n",
        "4. $x_1=\\frac{5}{7},x_2=\\frac{-4}{7},x_3=0$\n",
        "5. $x_1=\\frac{5}{7},x_2=\\frac{3}{7},x_3=1$\n",
        "\n"
      ]
    },
    {
      "cell_type": "markdown",
      "metadata": {
        "id": "te47UazICPen"
      },
      "source": [
        "**Your Answer Here**"
      ]
    },
    {
      "cell_type": "markdown",
      "metadata": {
        "id": "kp9BscY0EO_D"
      },
      "source": [
        "## Question-4"
      ]
    },
    {
      "cell_type": "markdown",
      "metadata": {
        "id": "iNZrodPBEPIc"
      },
      "source": [
        "Find a system of linear equations corresponding to the given augmented matrix\n",
        "$$\\begin{bmatrix}\n",
        "1 & 3 & 5 & 7\\\\\n",
        "-7 & -5 & -3 & -1\\\\\n",
        "-5 & 6 & -1 & -1\\\\ \n",
        "8 & 0 & 0 & 2\n",
        "\\end{bmatrix}$$"
      ]
    },
    {
      "cell_type": "markdown",
      "metadata": {
        "id": "6MtcPa8JEbQc"
      },
      "source": [
        "**Your Answer Here**"
      ]
    },
    {
      "cell_type": "markdown",
      "metadata": {
        "id": "r2JblEzfFAt-"
      },
      "source": [
        "## Question-5"
      ]
    },
    {
      "cell_type": "markdown",
      "metadata": {
        "id": "xLl5mj3dFAwx"
      },
      "source": [
        "Consider the following Augmented matrix\n",
        "$$\\begin{bmatrix}\n",
        "1 & 2 & 1 & 2 \\\\ \n",
        "2 & -2 & 3 & 1\\\\ \n",
        "1 & 2 & -a & a\n",
        "\\end{bmatrix}$$\n",
        "What will be the value of $a$ if system has no solutions?"
      ]
    },
    {
      "cell_type": "markdown",
      "metadata": {
        "id": "09cnSpT3FA0X"
      },
      "source": [
        "**Your Answer Here**"
      ]
    }
  ]
}