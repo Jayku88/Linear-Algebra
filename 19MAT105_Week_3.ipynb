{
  "nbformat": 4,
  "nbformat_minor": 0,
  "metadata": {
    "colab": {
      "name": "19MAT105-Week-3.ipynb",
      "provenance": [],
      "authorship_tag": "ABX9TyMrwZ+PaAujgEDJGQRj0QYU",
      "include_colab_link": true
    },
    "kernelspec": {
      "name": "python3",
      "display_name": "Python 3"
    },
    "language_info": {
      "name": "python"
    }
  },
  "cells": [
    {
      "cell_type": "markdown",
      "metadata": {
        "id": "view-in-github",
        "colab_type": "text"
      },
      "source": [
        "<a href=\"https://colab.research.google.com/github/Jayku88/Linear-Algebra/blob/main/19MAT105_Week_3.ipynb\" target=\"_parent\"><img src=\"https://colab.research.google.com/assets/colab-badge.svg\" alt=\"Open In Colab\"/></a>"
      ]
    },
    {
      "cell_type": "markdown",
      "metadata": {
        "id": "ir1lkdmZ5s0Z"
      },
      "source": [
        "# Rank of a matrix"
      ]
    },
    {
      "cell_type": "markdown",
      "metadata": {
        "id": "6o48cR696GW9"
      },
      "source": [
        "\n",
        "\n",
        "---\n",
        "\n",
        "\n",
        "\n",
        "---\n",
        "\n",
        "\n",
        "Rank tells us everything about number of solutions of $Ax=b$\n",
        "\n",
        "Rank is maximum number of linearly independent rows (or columns) of a matrix\n",
        "\n",
        "Rank is the number of pivot columns in row reduced echelon form\n",
        "\n",
        "Rank is also dimension of vector space generated (or spanned) by its columns\n",
        "\n",
        "We will be using $r$ for representing rank\n",
        "\n",
        "\n",
        "\n",
        "---\n",
        "\n",
        "\n",
        "\n",
        "---\n",
        "\n",
        "\n"
      ]
    },
    {
      "cell_type": "markdown",
      "metadata": {
        "id": "VjFKK3Pa7H0P"
      },
      "source": [
        "**Consider the following Matrix** (Note: Not an Augmented matrix)\n",
        "\\begin{bmatrix}\n",
        "2 & 4 & -2 & 2\\\\\n",
        "4 & 9 & -3 & 8\\\\\n",
        "-2 & -3 & 7 &10\n",
        "\\end{bmatrix}\n",
        "\n",
        "Row reduced echelon form will be\n",
        "\\begin{bmatrix}\n",
        "1 & 0 & 0 & -1\\\\\n",
        "0 & 1 & 0 & 2\\\\\n",
        "0 & 0 & 1 &2\n",
        "\\end{bmatrix}\n",
        "Number of pivot columns $=3$, So Rank $=3$\n"
      ]
    },
    {
      "cell_type": "markdown",
      "metadata": {
        "id": "Ya28Z8LP7amG"
      },
      "source": [
        "**Code for row reduced echelon form**"
      ]
    },
    {
      "cell_type": "code",
      "metadata": {
        "id": "IKarn4g6762z"
      },
      "source": [
        "from sympy import * \n",
        "M = Matrix([[2,4,-2,2], [4,9,-3,8],[-2,-3,7,10]])\n",
        "M_rref = M.rref()    \n",
        "print(\"The Reduced Row echelon form of matrix M and the pivot columns : {}\".format(M_rref)) "
      ],
      "execution_count": null,
      "outputs": []
    },
    {
      "cell_type": "markdown",
      "metadata": {
        "id": "MepP9Q-c8a-h"
      },
      "source": [
        "**Code for computing rank using matrix_rank function**"
      ]
    },
    {
      "cell_type": "code",
      "metadata": {
        "id": "x3YuAf1u5r76"
      },
      "source": [
        "import numpy as np\n",
        "A = np.array([[2,4,-2,2], [4,9,-3,8],[-2,-3,7,10]])\n",
        "from numpy.linalg import matrix_rank\n",
        "matrix_rank(A)"
      ],
      "execution_count": null,
      "outputs": []
    },
    {
      "cell_type": "markdown",
      "metadata": {
        "id": "dIwEAJ0h6lcs"
      },
      "source": [
        "## Part-2"
      ]
    },
    {
      "cell_type": "markdown",
      "source": [
        "**Code for computing column space and dimension of column space**"
      ],
      "metadata": {
        "id": "kpuOIhWGw-r1"
      }
    },
    {
      "cell_type": "code",
      "metadata": {
        "id": "ZABOqx9E6nmE"
      },
      "source": [
        "from sympy import * \n",
        "M = Matrix([[2,4,-2,2], [4,9,-3,8],[-2,-3,7,10]])\n",
        "M_columnspace = M.columnspace()  \n",
        "print(\"Columnspace of a matrix : {}\".format(M_columnspace)) \n",
        "print(\"Dimension of column space is \",len(M_columnspace))"
      ],
      "execution_count": null,
      "outputs": []
    },
    {
      "cell_type": "markdown",
      "source": [
        "**Code for computing null space and dimension of null space**"
      ],
      "metadata": {
        "id": "eKrf8junxRVO"
      }
    },
    {
      "cell_type": "code",
      "metadata": {
        "id": "18IeEgOe7BzH"
      },
      "source": [
        "from sympy import * \n",
        "M = Matrix([[2,4,-2,2], [4,9,-3,8],[-2,-3,7,10]])\n",
        "print(\"Matrix : {} \".format(M))\n",
        "# Use sympy.nullspace() method \n",
        "M_nullspace = M.nullspace()      \n",
        "print(\"Nullspace of a matrix : {}\".format(M_nullspace))  \n",
        "print(\"Dimension of null space is\",len(M_nullspace))"
      ],
      "execution_count": null,
      "outputs": []
    },
    {
      "cell_type": "markdown",
      "metadata": {
        "id": "Tu4HxP1x9dZa"
      },
      "source": [
        "# Complete Explanation of $Ax=b$"
      ]
    },
    {
      "cell_type": "markdown",
      "metadata": {
        "id": "vyFEhnGmD_bS"
      },
      "source": [
        "In following cases,\n",
        "\n",
        "$r$ is **rank of matrix**\n",
        "\n",
        "$m$ is **number of rows (or number of equations)**\n",
        "\n",
        "$n$ is **number of columns (or number of unknowns)**"
      ]
    },
    {
      "cell_type": "markdown",
      "metadata": {
        "id": "DMl6ncPB98Gh"
      },
      "source": [
        "## **Case 1: $r=m=n$**"
      ]
    },
    {
      "cell_type": "markdown",
      "metadata": {
        "id": "xK3Qfvzi-6rk"
      },
      "source": [
        "Consider the follwing matrix \n",
        "\\begin{bmatrix}\n",
        "1 & 2 & 3\\\\\n",
        "1 & 1 & 4\\\\\n",
        "2 & 1 & 5\n",
        "\\end{bmatrix}\n",
        "\n",
        "\n",
        "---\n",
        "\n",
        "\n",
        "\n",
        "---\n",
        "\n",
        "\n",
        "Reduced row echelon form is \n",
        "\n",
        "$\\begin{bmatrix}\n",
        "1 & 0 & 0\\\\\n",
        "0 & 1 & 0\\\\\n",
        "0 & 0 & 1\n",
        "\\end{bmatrix}=I $ (**Identity matrix**)\n",
        "\n",
        "Number of solutions to $Ax=b$ is $1$\n",
        "\n",
        "No restriction on right hand side $b$\n",
        "\n",
        "$Ax=b$ has unique solution for every $b$\n",
        "\n",
        "---\n",
        "\n",
        "\n",
        "\n",
        "---\n",
        "\n",
        "\n",
        "\n",
        "\n"
      ]
    },
    {
      "cell_type": "markdown",
      "metadata": {
        "id": "AmVHFHaFGE82"
      },
      "source": [
        "**Code for row reduced echelon form**"
      ]
    },
    {
      "cell_type": "code",
      "metadata": {
        "id": "pKa9e1h5GCTk"
      },
      "source": [
        "from sympy import *  \n",
        "M = Matrix([[1, 2, 3], [1, 1, 4], [2, 1, 5]]) \n",
        "print(\"Matrix : {} \".format(M))\n",
        "M_rref = M.rref()  \n",
        "print(\"The Reduced Row echelon form of matrix M and the pivot columns : {}\".format(M_rref)) "
      ],
      "execution_count": null,
      "outputs": []
    },
    {
      "cell_type": "markdown",
      "metadata": {
        "id": "Dl6Kz44zE0Mt"
      },
      "source": [
        "**Example 1**\n",
        "\n",
        "Consider the linear system\n",
        "$$x+2y+3z=1$$\n",
        "$$x+y+4z=-7$$\n",
        "$$2x+y+5z=2$$\n",
        "Augmented matrix will be\n",
        "\\begin{bmatrix}\n",
        "1 & 2 & 3 & 1\\\\\n",
        "1 & 1 & 4 & -7\\\\\n",
        "2 & 1 & 5 & 2\n",
        "\\end{bmatrix}\n",
        "Reduced row echelon form will be\n",
        "\\begin{bmatrix}\n",
        "1 & 0 & 0 & 15\\\\\n",
        "0 & 1 & 0 & 2\\\\\n",
        "0 & 0 & 1 & -6\n",
        "\\end{bmatrix}\n",
        "Solutions are \n",
        "$$x=15$$\n",
        "$$y=2$$\n",
        "$$z=-6$$\n"
      ]
    },
    {
      "cell_type": "markdown",
      "metadata": {
        "id": "QlkFChzJHiTs"
      },
      "source": [
        "**Code for row reduced echelon form**"
      ]
    },
    {
      "cell_type": "code",
      "metadata": {
        "id": "zA6XkbgG-7ta"
      },
      "source": [
        "from sympy import *  \n",
        "M = Matrix([[1, 2, 3,1], [1, 1, 4,-7], [2, 1, 5,2]]) \n",
        "print(\"Matrix : {} \".format(M))\n",
        "M_rref = M.rref()  \n",
        "print(\"The Reduced Row echelon form of matrix M and the pivot columns : {}\".format(M_rref)) "
      ],
      "execution_count": null,
      "outputs": []
    },
    {
      "cell_type": "markdown",
      "metadata": {
        "id": "gCco3mWoITTq"
      },
      "source": [
        "**Finding solutions directly**"
      ]
    },
    {
      "cell_type": "code",
      "metadata": {
        "id": "1-FgoZRbH3FS"
      },
      "source": [
        "from sympy import symbols, Eq, solve\n",
        "x, y,z = symbols('x y z ')\n",
        "eq1 = Eq(x+2*y+3*z-1 , 0)\n",
        "eq2 = Eq(x+y+4*z+7, 0)\n",
        "eq3 = Eq(2*x+y+5*z-2, 0)\n",
        "solve((eq1,eq2,eq3), (x, y,z,))"
      ],
      "execution_count": null,
      "outputs": []
    },
    {
      "cell_type": "markdown",
      "metadata": {
        "id": "BCbYMSNMHAyf"
      },
      "source": [
        "**Example 2**\n",
        "\n",
        "Consider the linear system\n",
        "$$x+2y+3z=1$$\n",
        "$$x+y+4z=1$$\n",
        "$$2x+y+5z=1$$\n",
        "Augmented matrix will be\n",
        "\\begin{bmatrix}\n",
        "1 & 2 & 3 & 1\\\\\n",
        "1 & 1 & 4 & 1\\\\\n",
        "2 & 1 & 5 & 1\n",
        "\\end{bmatrix}\n",
        "Reduced row echelon form will be\n",
        "\\begin{bmatrix}\n",
        "1 & 0 & 0 & -\\frac{1}{4}\\\\\n",
        "0 & 1 & 0 & \\frac{1}{4}\\\\\n",
        "0 & 0 & 1 & \\frac{1}{4}\n",
        "\\end{bmatrix}\n",
        "Solutions are \n",
        "$$x=-\\frac{1}{4}$$\n",
        "$$y=\\frac{1}{4}$$\n",
        "$$z=\\frac{1}{4}$$"
      ]
    },
    {
      "cell_type": "markdown",
      "source": [
        "**Code for row reduced echelon form**"
      ],
      "metadata": {
        "id": "BwjFzCdAxgeG"
      }
    },
    {
      "cell_type": "code",
      "metadata": {
        "id": "cBvmRShsHIws"
      },
      "source": [
        "from sympy import *  \n",
        "M = Matrix([[1, 2, 3,1], [1, 1, 4,1], [2, 1, 5,1]]) \n",
        "print(\"Matrix : {} \".format(M))\n",
        "M_rref = M.rref()  \n",
        "print(\"The Reduced Row echelon form of matrix M and the pivot columns : {}\".format(M_rref)) "
      ],
      "execution_count": null,
      "outputs": []
    },
    {
      "cell_type": "markdown",
      "metadata": {
        "id": "7cH6l7v_ImIw"
      },
      "source": [
        "**Finding solutions directly**"
      ]
    },
    {
      "cell_type": "code",
      "metadata": {
        "id": "BCs3YUP5Igm3"
      },
      "source": [
        "from sympy import symbols, Eq, solve\n",
        "x, y,z = symbols('x y z ')\n",
        "eq1 = Eq(x+2*y+3*z-1 , 0)\n",
        "eq2 = Eq(x+y+4*z-1, 0)\n",
        "eq3 = Eq(2*x+y+5*z-1, 0)\n",
        "solve((eq1,eq2,eq3), (x, y,z,))"
      ],
      "execution_count": null,
      "outputs": []
    },
    {
      "cell_type": "markdown",
      "metadata": {
        "id": "O7aTidiw7SQO"
      },
      "source": [
        "### Part-2"
      ]
    },
    {
      "cell_type": "markdown",
      "source": [
        "**Code for computing column space and dimension of column space**"
      ],
      "metadata": {
        "id": "GJC8MbqMxs3m"
      }
    },
    {
      "cell_type": "code",
      "metadata": {
        "id": "EmAk2Nbq7SQQ"
      },
      "source": [
        "from sympy import * \n",
        "M = Matrix([[1, 2, 3], [1, 1, 4], [2, 1, 5]])\n",
        "M_columnspace = M.columnspace()  \n",
        "print(\"Columnspace of a matrix : {}\".format(M_columnspace)) \n",
        "print(\"Dimension of column space is \",len(M_columnspace))"
      ],
      "execution_count": null,
      "outputs": []
    },
    {
      "cell_type": "markdown",
      "source": [
        "**Code for computing null space and dimension of null space**"
      ],
      "metadata": {
        "id": "IAqehFWWxvAO"
      }
    },
    {
      "cell_type": "code",
      "metadata": {
        "id": "kIhni1107SQR"
      },
      "source": [
        "from sympy import * \n",
        "M = Matrix([[1, 2, 3], [1, 1, 4], [2, 1, 5]])\n",
        "print(\"Matrix : {} \".format(M))\n",
        "M_nullspace = M.nullspace()      \n",
        "print(\"Nullspace of a matrix : {}\".format(M_nullspace))  \n",
        "print(\"Dimension of null space is\",len(M_nullspace))"
      ],
      "execution_count": null,
      "outputs": []
    },
    {
      "cell_type": "markdown",
      "metadata": {
        "id": "jYUVoTGV-c46"
      },
      "source": [
        "## **Case 2: $r=n<m$**"
      ]
    },
    {
      "cell_type": "markdown",
      "metadata": {
        "id": "jrgNpwuaLvuK"
      },
      "source": [
        "Consider the follwing matrix \n",
        "\\begin{bmatrix}\n",
        "1 & 3\\\\\n",
        "2 & 1\\\\\n",
        "6 & 1\\\\ \n",
        "5 & 1\n",
        "\\end{bmatrix}\n",
        "\n",
        "\n",
        "---\n",
        "\n",
        "\n",
        "\n",
        "---\n",
        "\n",
        "\n",
        "Reduced row echelon form is \n",
        "\n",
        "$\\begin{bmatrix}\n",
        "1 & 0 \\\\\n",
        "0 & 1 \\\\\n",
        "0 & 0 \\\\ \n",
        "0 & 0\n",
        "\\end{bmatrix}=\\begin{bmatrix}I\\\\0\\end{bmatrix} $ \n",
        "\n",
        "Number of solutions to $Ax=b$ is $0$ or $1$\n",
        "\n",
        "For any vector $b$ in that is not a linear combination of the columns of $A$, there is no solution to $Ax = b$ \n",
        "\n",
        "---\n",
        "\n",
        "\n",
        "\n",
        "---\n",
        "\n",
        "\n",
        "\n",
        "\n"
      ]
    },
    {
      "cell_type": "markdown",
      "metadata": {
        "id": "uJJNGOZcLvuK"
      },
      "source": [
        "**Code for row reduced echelon form**"
      ]
    },
    {
      "cell_type": "code",
      "metadata": {
        "id": "w5khiNRXLvuL"
      },
      "source": [
        "from sympy import *  \n",
        "M = Matrix([[1,3], [2,1], [6,1],[5,1]]) \n",
        "print(\"Matrix : {} \".format(M))\n",
        "M_rref = M.rref()  \n",
        "print(\"The Reduced Row echelon form of matrix M and the pivot columns : {}\".format(M_rref)) "
      ],
      "execution_count": null,
      "outputs": []
    },
    {
      "cell_type": "markdown",
      "metadata": {
        "id": "brtZkZLALvuL"
      },
      "source": [
        "**Example 1 (ZERO solution)**\n",
        "\n",
        "Consider the linear system\n",
        "$$x+3y=1$$\n",
        "$$2x+y=-7$$\n",
        "$$6x+y=2$$\n",
        "$$5x+y=1$$\n",
        "Augmented matrix will be\n",
        "\\begin{bmatrix}\n",
        "1 & 3 &  1\\\\\n",
        "2 & 1 & -7\\\\\n",
        "6 & 1 & 2 \\\\ \n",
        "5 & 1 & 1\n",
        "\\end{bmatrix}\n",
        "Reduced row echelon form will be\n",
        "\\begin{bmatrix}\n",
        "1 & 0 & 0 \\\\\n",
        "0 & 1 & 0 \\\\\n",
        "0 & 0 & 1 \\\\ \n",
        "0 & 0 & 0 \n",
        "\\end{bmatrix}\n",
        "**zero** solutions\n"
      ]
    },
    {
      "cell_type": "markdown",
      "metadata": {
        "id": "3XkuAiRqLvuM"
      },
      "source": [
        "**Code for reduced row echelon form**"
      ]
    },
    {
      "cell_type": "code",
      "metadata": {
        "id": "fX22LGB5LvuM"
      },
      "source": [
        "from sympy import *  \n",
        "M = Matrix([[1,3,1], [2, 1,-7], [6, 1,2],[5,1,1]]) \n",
        "print(\"Matrix : {} \".format(M))\n",
        "M_rref = M.rref()  \n",
        "print(\"The Reduced Row echelon form of matrix M and the pivot columns : {}\".format(M_rref)) "
      ],
      "execution_count": null,
      "outputs": []
    },
    {
      "cell_type": "markdown",
      "metadata": {
        "id": "wUZotpNdLvuN"
      },
      "source": [
        "**Finding solutions directly**"
      ]
    },
    {
      "cell_type": "code",
      "metadata": {
        "id": "VLc1PpshLvuN"
      },
      "source": [
        "from sympy import symbols, Eq, solve\n",
        "x, y = symbols('x y ')\n",
        "eq1 = Eq(x+3*y-1 , 0)\n",
        "eq2 = Eq(2*x+y+7, 0)\n",
        "eq3 = Eq(6*x+y-2, 0)\n",
        "eq4 = Eq(5*x+y-1, 0)\n",
        "solve((eq1,eq2,eq3,eq4), (x, y))"
      ],
      "execution_count": null,
      "outputs": []
    },
    {
      "cell_type": "markdown",
      "metadata": {
        "id": "LQu7gESpLvuO"
      },
      "source": [
        "**Example 2 (ONE solution)**\n",
        "\n",
        "Consider the linear system\n",
        "$$x+3y=4$$\n",
        "$$2x+y=3$$\n",
        "$$6x+y=7$$\n",
        "$$5x+y=6$$\n",
        "Augmented matrix will be\n",
        "\\begin{bmatrix}\n",
        "1 & 3 &  4\\\\\n",
        "2 & 1 & 3\\\\\n",
        "6 & 1 & 7 \\\\ \n",
        "5 & 1 & 6\n",
        "\\end{bmatrix}\n",
        "Reduced row echelon form will be\n",
        "\\begin{bmatrix}\n",
        "1 & 0 & 1 \\\\\n",
        "0 & 1 & 1 \\\\\n",
        "0 & 0 & 0 \\\\ \n",
        "0 & 0 & 0 \n",
        "\\end{bmatrix}\n",
        "Solution is (Note : Only 1 solution)\n",
        "$$x=1$$\n",
        "$$y=1$$"
      ]
    },
    {
      "cell_type": "markdown",
      "source": [
        "**Code for reduced row echelon form**"
      ],
      "metadata": {
        "id": "XENqWZtSyGRu"
      }
    },
    {
      "cell_type": "code",
      "metadata": {
        "id": "whIOPNT_LvuO"
      },
      "source": [
        "from sympy import *  \n",
        "M = Matrix([[1,3,4], [2, 1,3], [6, 1,7],[5,1,6]]) \n",
        "print(\"Matrix : {} \".format(M))\n",
        "M_rref = M.rref()  \n",
        "print(\"The Reduced Row echelon form of matrix M and the pivot columns : {}\".format(M_rref)) "
      ],
      "execution_count": null,
      "outputs": []
    },
    {
      "cell_type": "markdown",
      "metadata": {
        "id": "Uyb8LH9VLvuP"
      },
      "source": [
        "**Finding solutions directly**"
      ]
    },
    {
      "cell_type": "code",
      "metadata": {
        "id": "CwCMrccgLvuP"
      },
      "source": [
        "from sympy import symbols, Eq, solve\n",
        "x, y = symbols('x y ')\n",
        "eq1 = Eq(x+3*y-4 , 0)\n",
        "eq2 = Eq(2*x+y-3, 0)\n",
        "eq3 = Eq(6*x+y-7, 0)\n",
        "eq4 = Eq(5*x+y-6, 0)\n",
        "solve((eq1,eq2,eq3,eq4), (x, y))"
      ],
      "execution_count": null,
      "outputs": []
    },
    {
      "cell_type": "markdown",
      "metadata": {
        "id": "VkLpDMuc737N"
      },
      "source": [
        "### Part-2"
      ]
    },
    {
      "cell_type": "markdown",
      "source": [
        "**Code for computing column space and dimension of column space**"
      ],
      "metadata": {
        "id": "5Bs0ZeLLyOIV"
      }
    },
    {
      "cell_type": "code",
      "metadata": {
        "id": "WCLekb3A737n"
      },
      "source": [
        "from sympy import * \n",
        "M = Matrix([[1,3], [2,1], [6,1],[5,1]])  \n",
        "M_columnspace = M.columnspace()  \n",
        "print(\"Columnspace of a matrix : {}\".format(M_columnspace)) \n",
        "print(\"Dimension of column space is \",len(M_columnspace))"
      ],
      "execution_count": null,
      "outputs": []
    },
    {
      "cell_type": "markdown",
      "source": [
        "**Code for computing null space and dimension of null space**"
      ],
      "metadata": {
        "id": "H1VwOSHDyQyF"
      }
    },
    {
      "cell_type": "code",
      "metadata": {
        "id": "P_tZsbiA737p"
      },
      "source": [
        "from sympy import * \n",
        "M = Matrix([[1,3], [2,1], [6,1],[5,1]])  \n",
        "print(\"Matrix : {} \".format(M))\n",
        "# Use sympy.nullspace() method \n",
        "M_nullspace = M.nullspace()      \n",
        "print(\"Nullspace of a matrix : {}\".format(M_nullspace))  \n",
        "print(\"Dimension of null space is\",len(M_nullspace))"
      ],
      "execution_count": null,
      "outputs": []
    },
    {
      "cell_type": "markdown",
      "metadata": {
        "id": "85XI4MfD-dFb"
      },
      "source": [
        "## **Case 3: $r=m<n$**"
      ]
    },
    {
      "cell_type": "markdown",
      "metadata": {
        "id": "WikEZCKMQy0x"
      },
      "source": [
        "Consider the follwing matrix \n",
        "\\begin{bmatrix}\n",
        "1 & 2 & 6 & 5 \\\\\n",
        "3 & 1 & 1 & 1\n",
        "\\end{bmatrix}\n",
        "\n",
        "---\n",
        "\n",
        "\n",
        "\n",
        "---\n",
        "\n",
        "\n",
        "Reduced row echelon form is \n",
        "\n",
        "$\\begin{bmatrix}\n",
        "1 & 0 & -\\frac{4}{5} & -\\frac{3}{5}\\\\\n",
        "0 & 1 & \\frac{17}{5} & \\frac{14}{5}\n",
        "\\end{bmatrix}=\\begin{bmatrix}I&F\\end{bmatrix} $ In some cases $I$ and $F$ may be mixed\n",
        "\n",
        "Number of solutions to $Ax=b$ is infinitely many\n",
        "\n",
        "$Ax=b$ is solvable for every $b$\n",
        "\n",
        "There are $n-r$ or $n-m$ **free** variables. \n",
        "\n",
        "$n-m$ special solutions to $Ax=0$\n",
        "\n",
        "---\n",
        "\n",
        "\n",
        "\n",
        "---\n",
        "\n",
        "\n",
        "\n",
        "\n"
      ]
    },
    {
      "cell_type": "markdown",
      "metadata": {
        "id": "fzS84wkfQy0y"
      },
      "source": [
        "**Code for row reduced echelon form**"
      ]
    },
    {
      "cell_type": "code",
      "metadata": {
        "id": "e0F6dfWjQy0y"
      },
      "source": [
        "from sympy import *  \n",
        "M = Matrix([[1,2,6,5],[3,1,1,1]]) \n",
        "print(\"Matrix : {} \".format(M))\n",
        "M_rref = M.rref()  \n",
        "print(\"The Reduced Row echelon form of matrix M and the pivot columns : {}\".format(M_rref)) "
      ],
      "execution_count": null,
      "outputs": []
    },
    {
      "cell_type": "markdown",
      "metadata": {
        "id": "l3LCu0GpQy00"
      },
      "source": [
        "**Example 1 ($I$ and $F$ not overlapped )**\n",
        "\n",
        "Consider the linear system\n",
        "$$x+2y+6z+5w=3$$\n",
        "$$3x+y+z+w=4$$\n",
        "\n",
        "Augmented matrix will be\n",
        "\\begin{bmatrix}\n",
        "1&2&6&5&3\\\\ \n",
        "3&1&1&1&4\n",
        "\\end{bmatrix}\n",
        "Reduced row echelon form will be\n",
        "\\begin{bmatrix}\n",
        "1 & 0 & -\\frac{4}{5} &-\\frac{3}{5}&1 \\\\\n",
        "0 & 1 & \\frac{17}{5} & \\frac{14}{5}&1 \n",
        "\\end{bmatrix}\n",
        "**Infinitely many** solutions\n"
      ]
    },
    {
      "cell_type": "markdown",
      "metadata": {
        "id": "3r8sYK_XQy00"
      },
      "source": [
        "**Code for row reduced echelon form**"
      ]
    },
    {
      "cell_type": "code",
      "metadata": {
        "id": "lIT94hFYQy01"
      },
      "source": [
        "from sympy import *  \n",
        "M = Matrix([[1,2,6,5,3],[3,1,1,1,4]]) \n",
        "print(\"Matrix : {} \".format(M))\n",
        "M_rref = M.rref()  \n",
        "print(\"The Reduced Row echelon form of matrix M and the pivot columns : {}\".format(M_rref)) "
      ],
      "execution_count": null,
      "outputs": []
    },
    {
      "cell_type": "markdown",
      "metadata": {
        "id": "95HocOaLQy02"
      },
      "source": [
        "**Finding solutions directly**"
      ]
    },
    {
      "cell_type": "code",
      "metadata": {
        "id": "J6V7ytGeQy02"
      },
      "source": [
        "from sympy import symbols, Eq, solve\n",
        "x, y,z,w = symbols('x y z w')\n",
        "eq1 = Eq(x+2*y+6*z+5*w-3 , 0)\n",
        "eq2 = Eq(3*x+y+z+w-4, 0)\n",
        "solve((eq1,eq2), (x, y,z,w))"
      ],
      "execution_count": null,
      "outputs": []
    },
    {
      "cell_type": "markdown",
      "metadata": {
        "id": "AXnapf70Qy03"
      },
      "source": [
        "**Example 2 ($I$ and $F$  overlapped )**\n",
        "\n",
        "Consider the linear system\n",
        "$$x+2y+6z+5w=3$$\n",
        "$$3x+y+z+w=4$$\n",
        "\n",
        "Augmented matrix will be\n",
        "\\begin{bmatrix}\n",
        "1&2&6&5&3\\\\ \n",
        "1&2&1&1&4\n",
        "\\end{bmatrix}\n",
        "Reduced row echelon form will be\n",
        "\\begin{bmatrix}\n",
        "1 & 2 &0 &\\frac{1}{5}&\\frac{21}{5} \\\\\n",
        "0 & 0 & 1 & \\frac{4}{5}&-\\frac{1}{5}\n",
        "\\end{bmatrix}\n",
        "**Infinitely many** solutions"
      ]
    },
    {
      "cell_type": "markdown",
      "source": [
        "**Code for reduced row echelon form**"
      ],
      "metadata": {
        "id": "b6wyZ3kIyscH"
      }
    },
    {
      "cell_type": "code",
      "metadata": {
        "id": "X7w5np_hQy04"
      },
      "source": [
        "from sympy import *  \n",
        "M = Matrix([[1,2,6,5,3],[1,2,1,1,4]]) \n",
        "print(\"Matrix : {} \".format(M))\n",
        "M_rref = M.rref()  \n",
        "print(\"The Reduced Row echelon form of matrix M and the pivot columns : {}\".format(M_rref)) "
      ],
      "execution_count": null,
      "outputs": []
    },
    {
      "cell_type": "markdown",
      "metadata": {
        "id": "__U0u8QWQy04"
      },
      "source": [
        "**Finding solutions directly**"
      ]
    },
    {
      "cell_type": "code",
      "metadata": {
        "id": "G4VkouCMQy05"
      },
      "source": [
        "from sympy import symbols, Eq, solve\n",
        "x, y,z,w = symbols('x y z w')\n",
        "eq1 = Eq(x+2*y+6*z+5*w-3 , 0)\n",
        "eq2 = Eq(x+2*y+z+w-4, 0)\n",
        "solve((eq1,eq2), (x, y,z,w))"
      ],
      "execution_count": null,
      "outputs": []
    },
    {
      "cell_type": "markdown",
      "metadata": {
        "id": "8MTmoC9t85YY"
      },
      "source": [
        "### Part-2"
      ]
    },
    {
      "cell_type": "markdown",
      "source": [
        "**Code for computing column space and dimension of column space**"
      ],
      "metadata": {
        "id": "UiTsa9fFy5Tf"
      }
    },
    {
      "cell_type": "code",
      "metadata": {
        "id": "vMkEnxZV85Yw"
      },
      "source": [
        "from sympy import * \n",
        "M = Matrix([[1,2,6,5],[3,1,1,1]]) #(Example-1)\n",
        "M_columnspace = M.columnspace()  \n",
        "print(\"Columnspace of a matrix : {}\".format(M_columnspace)) \n",
        "print(\"Dimension of column space is \",len(M_columnspace))"
      ],
      "execution_count": null,
      "outputs": []
    },
    {
      "cell_type": "markdown",
      "source": [
        "**Code for computing null space and dimension of null space**"
      ],
      "metadata": {
        "id": "zzVZyQ9wy9m9"
      }
    },
    {
      "cell_type": "code",
      "metadata": {
        "id": "XfCu6xAe85Yy"
      },
      "source": [
        "from sympy import * \n",
        "M = Matrix([[1,2,6,5],[3,1,1,1]]) #(Example-1)\n",
        "print(\"Matrix : {} \".format(M))\n",
        "M_nullspace = M.nullspace()      \n",
        "print(\"Nullspace of a matrix : {}\".format(M_nullspace))  \n",
        "print(\"Dimension of null space is\",len(M_nullspace))"
      ],
      "execution_count": null,
      "outputs": []
    },
    {
      "cell_type": "markdown",
      "source": [
        "**Code for computing column space and dimension of column space**"
      ],
      "metadata": {
        "id": "2f6fyVQ0y70l"
      }
    },
    {
      "cell_type": "code",
      "metadata": {
        "id": "k_LXepGA9SUo"
      },
      "source": [
        "from sympy import * \n",
        "M = Matrix([[1,2,6,5],[1,2,1,1]]) \n",
        "M_columnspace = M.columnspace()  \n",
        "print(\"Columnspace of a matrix : {}\".format(M_columnspace)) \n",
        "print(\"Dimension of column space is \",len(M_columnspace))"
      ],
      "execution_count": null,
      "outputs": []
    },
    {
      "cell_type": "markdown",
      "source": [
        "**Code for computing null space and dimension of null space**"
      ],
      "metadata": {
        "id": "yevAaN_BzCAO"
      }
    },
    {
      "cell_type": "code",
      "metadata": {
        "id": "euSrkwwX9Sb9"
      },
      "source": [
        "from sympy import * \n",
        "M = Matrix([[1,2,6,5],[1,2,1,1]])  #(Example-2)\n",
        "print(\"Matrix : {} \".format(M))\n",
        "M_nullspace = M.nullspace()      \n",
        "print(\"Nullspace of a matrix : {}\".format(M_nullspace))  \n",
        "print(\"Dimension of null space is\",len(M_nullspace))"
      ],
      "execution_count": null,
      "outputs": []
    },
    {
      "cell_type": "markdown",
      "metadata": {
        "id": "_Oh7dkWU-dOj"
      },
      "source": [
        "## **Case 4: $r<m,r<n$**"
      ]
    },
    {
      "cell_type": "markdown",
      "metadata": {
        "id": "LXIa0qGNHC9r"
      },
      "source": [
        "Consider the follwing matrix \n",
        "\\begin{bmatrix}\n",
        "1 & 2 & 2 & 2 \\\\\n",
        "2 & 4 & 6 & 8\\\\ \n",
        "3 & 6 & 8 & 10\n",
        "\\end{bmatrix}\n",
        "\n",
        "---\n",
        "\n",
        "\n",
        "\n",
        "---\n",
        "\n",
        "\n",
        "Reduced row echelon form is \n",
        "\n",
        "$\\begin{bmatrix}\n",
        "1 & 2 & 0 & -2 \\\\\n",
        "0 & 0 & 1 & 2\\\\ \n",
        "0 & 0 & 0 & 0\n",
        "\\end{bmatrix}=\\begin{bmatrix}I&F\\\\ 0 &0\\end{bmatrix} $ In some cases $I$ and $F$ may be mixed\n",
        "\n",
        "Number of solutions to $Ax=b$ is $0$ or infinitely many\n",
        "\n",
        "\n",
        "---\n",
        "\n",
        "\n",
        "\n",
        "---\n",
        "\n",
        "\n",
        "\n",
        "\n"
      ]
    },
    {
      "cell_type": "markdown",
      "metadata": {
        "id": "2XpH966pHC9s"
      },
      "source": [
        "**Code for row reduced echelon form**"
      ]
    },
    {
      "cell_type": "code",
      "metadata": {
        "id": "JhnjyHxKHC9s"
      },
      "source": [
        "from sympy import * \n",
        "M = Matrix([[1, 2, 2, 2], [2, 4, 6, 8], [3, 6, 8, 10]])\n",
        "#print(\"Matrix : {} \".format(M))\n",
        "M_rref = M.rref()  \n",
        "print(\"The Reduced Row echelon form of matrix M and the pivot columns : {}\".format(M_rref))  "
      ],
      "execution_count": null,
      "outputs": []
    },
    {
      "cell_type": "markdown",
      "metadata": {
        "id": "Xf7tdt_GHC9u"
      },
      "source": [
        "**Example 1 (Infiitely many solutions )**\n",
        "\n",
        "Consider the linear system\n",
        "$$x+2y+2z+2w=1$$\n",
        "$$2x+4y+6z+8w=2$$\n",
        "$$3x+6y+8z+10w=3$$\n",
        "\n",
        "\n",
        "Augmented matrix will be\n",
        "\\begin{bmatrix}\n",
        "1&2&2&2&1\\\\ \n",
        "2&4&6&8&2\\\\ \n",
        "3&6&8&10&3\n",
        "\\end{bmatrix}\n",
        "Reduced row echelon form will be\n",
        "\\begin{bmatrix}\n",
        "1&2&0&-2&1\\\\ \n",
        "0&0&1&2&0\\\\ \n",
        "0&0&0&0&0\n",
        "\\end{bmatrix}\n",
        "**Infinitely many** solutions\n"
      ]
    },
    {
      "cell_type": "markdown",
      "metadata": {
        "id": "uKOIRuhOHC9u"
      },
      "source": [
        "**Code for row reduced echelon form**"
      ]
    },
    {
      "cell_type": "code",
      "metadata": {
        "id": "01UccCR7HC9v"
      },
      "source": [
        "from sympy import *  \n",
        "M = Matrix([[1, 2, 2, 2,1], [2, 4, 6, 8,2], [3, 6, 8, 10,3]])\n",
        "print(\"Matrix : {} \".format(M))\n",
        "M_rref = M.rref()  \n",
        "print(\"The Reduced Row echelon form of matrix M and the pivot columns : {}\".format(M_rref)) "
      ],
      "execution_count": null,
      "outputs": []
    },
    {
      "cell_type": "markdown",
      "metadata": {
        "id": "h06IoifVHC9w"
      },
      "source": [
        "**Finding solutions directly**"
      ]
    },
    {
      "cell_type": "code",
      "metadata": {
        "id": "Hn3LQwPFHC9w"
      },
      "source": [
        "from sympy import symbols, Eq, solve\n",
        "x, y,z,w = symbols('x y z w')\n",
        "eq1 = Eq(x+2*y+2*z+2*w-1 , 0)\n",
        "eq2 = Eq(2*x+4*y+6*z+8*w-2 , 0)\n",
        "eq3 = Eq(3*x+6*y+8*z+10*w-3 , 0)\n",
        "solve((eq1,eq2,eq3), (x, y,z,w))"
      ],
      "execution_count": null,
      "outputs": []
    },
    {
      "cell_type": "markdown",
      "metadata": {
        "id": "v2VEgAwgHC9x"
      },
      "source": [
        "**Example 2 (ZERO solutions )**\n",
        "\n",
        "Consider the linear system\n",
        "$$x+2y+2z+2w=7$$\n",
        "$$2x+4y+6z+8w=19$$\n",
        "$$3x+6y+8z+10w=27$$\n",
        "\n",
        "\n",
        "Augmented matrix will be\n",
        "\\begin{bmatrix}\n",
        "1&2&2&2&7\\\\ \n",
        "2&4&6&8&19\\\\ \n",
        "3&6&8&10&27\n",
        "\\end{bmatrix}\n",
        "Reduced row echelon form will be\n",
        "\\begin{bmatrix}\n",
        "1&2&0&-2&0\\\\ \n",
        "0&0&1&2&0\\\\ \n",
        "0&0&0&0&1\n",
        "\\end{bmatrix}\n",
        "**No** solutions"
      ]
    },
    {
      "cell_type": "markdown",
      "source": [
        "**Code for reduced row echelon form**"
      ],
      "metadata": {
        "id": "BOH9D5bszL7-"
      }
    },
    {
      "cell_type": "code",
      "metadata": {
        "id": "BimdMLdHHC9x"
      },
      "source": [
        "from sympy import *  \n",
        "M = Matrix([[1, 2, 2, 2,7], [2, 4, 6, 8,19], [3, 6, 8, 10,27]])\n",
        "print(\"Matrix : {} \".format(M))\n",
        "M_rref = M.rref()  \n",
        "print(\"The Reduced Row echelon form of matrix M and the pivot columns : {}\".format(M_rref))  "
      ],
      "execution_count": null,
      "outputs": []
    },
    {
      "cell_type": "markdown",
      "metadata": {
        "id": "Kt4dWQ_ZHC9y"
      },
      "source": [
        "**Finding solutions directly**"
      ]
    },
    {
      "cell_type": "code",
      "metadata": {
        "id": "dvDP47jaHC9z"
      },
      "source": [
        "from sympy import symbols, Eq, solve\n",
        "x, y,z,w = symbols('x y z w')\n",
        "eq1 = Eq(x+2*y+2*z+2*w-7 , 0)\n",
        "eq2 = Eq(2*x+4*y+6*z+8*w-19 , 0)\n",
        "eq3 = Eq(3*x+6*y+8*z+10*w-27 , 0)\n",
        "solve((eq1,eq2,eq3), (x, y,z,w))"
      ],
      "execution_count": null,
      "outputs": []
    },
    {
      "cell_type": "markdown",
      "metadata": {
        "id": "ZfBtfViR94pU"
      },
      "source": [
        "### Part-2"
      ]
    },
    {
      "cell_type": "markdown",
      "source": [
        "**Code for computing column space and dimension of column space**"
      ],
      "metadata": {
        "id": "07jDK6PtzW0u"
      }
    },
    {
      "cell_type": "code",
      "metadata": {
        "id": "DgujV0uG94pf"
      },
      "source": [
        "from sympy import * \n",
        "M = Matrix([[1, 2, 2, 2], [2, 4, 6, 8], [3, 6, 8, 10]]) #(Example-1)\n",
        "M_columnspace = M.columnspace()  \n",
        "print(\"Columnspace of a matrix : {}\".format(M_columnspace)) \n",
        "print(\"Dimension of column space is \",len(M_columnspace))"
      ],
      "execution_count": null,
      "outputs": []
    },
    {
      "cell_type": "markdown",
      "source": [
        "**Code for computing null space and dimension of null space**"
      ],
      "metadata": {
        "id": "az0GKUwKzbIu"
      }
    },
    {
      "cell_type": "code",
      "metadata": {
        "id": "YVGAq0uA94ph"
      },
      "source": [
        "from sympy import * \n",
        "M = Matrix([[1, 2, 2, 2], [2, 4, 6, 8], [3, 6, 8, 10]]) #(Example-1)\n",
        "print(\"Matrix : {} \".format(M))\n",
        "M_nullspace = M.nullspace()      \n",
        "print(\"Nullspace of a matrix : {}\".format(M_nullspace))  \n",
        "print(\"Dimension of null space is\",len(M_nullspace))"
      ],
      "execution_count": null,
      "outputs": []
    },
    {
      "cell_type": "markdown",
      "source": [
        "**Code for computing column space and dimension of column space**"
      ],
      "metadata": {
        "id": "I9MxTYRYzZj2"
      }
    },
    {
      "cell_type": "code",
      "metadata": {
        "id": "6b3aTirQ94ph"
      },
      "source": [
        "from sympy import * \n",
        "M = Matrix([[1, 2, 2, 2], [2, 4, 6, 8], [3, 6, 8, 10]])  #(Example-2)\n",
        "M_columnspace = M.columnspace()  \n",
        "print(\"Columnspace of a matrix : {}\".format(M_columnspace)) \n",
        "print(\"Dimension of column space is \",len(M_columnspace))"
      ],
      "execution_count": null,
      "outputs": []
    },
    {
      "cell_type": "markdown",
      "source": [
        "**Code for computing null space and dimension of null space**"
      ],
      "metadata": {
        "id": "RZDI4QOvzfB2"
      }
    },
    {
      "cell_type": "code",
      "metadata": {
        "id": "wrAnHEM994pj"
      },
      "source": [
        "from sympy import * \n",
        "M = Matrix([[1, 2, 2, 2], [2, 4, 6, 8], [3, 6, 8, 10]])  #(Example-2)\n",
        "print(\"Matrix : {} \".format(M))\n",
        "M_nullspace = M.nullspace()      \n",
        "print(\"Nullspace of a matrix : {}\".format(M_nullspace))  \n",
        "print(\"Dimension of null space is\",len(M_nullspace))"
      ],
      "execution_count": null,
      "outputs": []
    },
    {
      "cell_type": "markdown",
      "metadata": {
        "id": "GJBN5DVnMO7w"
      },
      "source": [
        "#Column Space"
      ]
    },
    {
      "cell_type": "markdown",
      "metadata": {
        "id": "tHjathlzMVLP"
      },
      "source": [
        "\n",
        "\n",
        "---\n",
        "\n",
        "\n",
        "\n",
        "---\n",
        "The column space of a matrix $A$ is the vector space made up of all linear combinations of the columns of $A$\n",
        "\n",
        "The system of linear equations $Ax = b$ is solvable exactly when $b$ is a vector\n",
        "in the column space of $A$\n",
        "\n",
        "Column space is the subspace of $R^m$\n",
        "\n",
        "It is represented using $C(A)$ or $Col(A)$\n",
        "\n",
        "$r=dim(C(A))=$ number of pivot columns\n",
        "\n",
        "\n",
        "---\n",
        "\n",
        "\n",
        "\n",
        "---\n",
        "\n",
        "\n"
      ]
    },
    {
      "cell_type": "markdown",
      "metadata": {
        "id": "bGi0Pb2TN9s5"
      },
      "source": [
        "# Null Space"
      ]
    },
    {
      "cell_type": "markdown",
      "metadata": {
        "id": "wbjgsC3BOA-h"
      },
      "source": [
        "\n",
        "\n",
        "---\n",
        "\n",
        "\n",
        "\n",
        "---\n",
        "\n",
        "The nullspace of a matrix $A$ consists of all vectors $x$ such that $Ax=0$\n",
        "\n",
        "Nullspace is a subspace of $R^n$\n",
        "\n",
        "It is represented using $N(A)$ or $Nul(A)$\n",
        "\n",
        "$dim(N(A))=$ number of free variables $(n-r)$\n",
        "\n",
        "\n",
        "---\n",
        "\n",
        "\n",
        "\n",
        "---\n",
        "\n",
        "\n",
        "\n"
      ]
    },
    {
      "cell_type": "markdown",
      "metadata": {
        "id": "LtH7xnqeSzuH"
      },
      "source": [
        "#Linear Dependence or Independence"
      ]
    },
    {
      "cell_type": "markdown",
      "metadata": {
        "id": "ynmZzEZrS8I2"
      },
      "source": [
        "\n",
        "\n",
        "---\n",
        "\n",
        "\n",
        "\n",
        "---\n",
        "\n",
        "If only the trivial combination gives zero, so that $c_1v_1+c_2v_2+....+c_kv_k=0$ only happens when $c_1=c_2=...c_k=0$, then the vectors $v_1,v_2,...v_k$ are **linearly independent**. Otherwise they are **linearly dependent**\n",
        "\n",
        "A set of $n$ vectors in $R^m$ must be linearly dependent if $n>m$\n",
        "\n",
        "---\n",
        "\n",
        "\n",
        "\n",
        "---\n",
        "\n"
      ]
    },
    {
      "cell_type": "markdown",
      "metadata": {
        "id": "fZJ5iOigS8ie"
      },
      "source": [
        "#Spanning a subspace"
      ]
    },
    {
      "cell_type": "markdown",
      "metadata": {
        "id": "-fjnUJasS8wl"
      },
      "source": [
        "\n",
        "\n",
        "---\n",
        "\n",
        "\n",
        "\n",
        "---\n",
        "\n",
        "If a vector space $V$ consists of all linear combinations of the particular vectors $w_1,w_2,...w_i$, then these vectors **span** the space. In other words, every vector $v$ in $V$ can be expressed as some combination of the $w$\n",
        "\n",
        "---\n",
        "\n",
        "---\n",
        "\n",
        "\n",
        "\n"
      ]
    },
    {
      "cell_type": "markdown",
      "metadata": {
        "id": "LTPE8fCKS8zw"
      },
      "source": [
        "#Basis for a subspace"
      ]
    },
    {
      "cell_type": "markdown",
      "metadata": {
        "id": "41uY0GeZS83Z"
      },
      "source": [
        "\n",
        "\n",
        "---\n",
        "\n",
        "\n",
        "\n",
        "---\n",
        "\n",
        "A **basis** for a vector space is a set of vectors having two properties\n",
        "\n",
        "\n",
        "\n",
        "1.   It is **linearly independent**\n",
        "2.   It **spans** the space\n",
        "\n",
        "Note: bases is the plural of basis\n",
        "\n",
        "---\n",
        "\n",
        "\n",
        "---\n",
        "\n",
        "\n"
      ]
    },
    {
      "cell_type": "markdown",
      "metadata": {
        "id": "wIqdgIxmTHeN"
      },
      "source": [
        "# Dimension of a subspace"
      ]
    },
    {
      "cell_type": "markdown",
      "metadata": {
        "id": "AdfYMhEWTH-W"
      },
      "source": [
        "Any two bases for a vector space $V$ contain the same number of vectors. This number, which is shared by all bases and expresses the number of **\"degrees of freedom\"** of the space, is called the **dimension** of $V$"
      ]
    },
    {
      "cell_type": "markdown",
      "metadata": {
        "id": "Qi38a4Yc0wmt"
      },
      "source": [
        "# Example - $x_{complete}=x_{particular}+x_{homogenous}$ (Solve it in board: Required)"
      ]
    },
    {
      "cell_type": "markdown",
      "source": [
        "**Code for reduced row echelon form**"
      ],
      "metadata": {
        "id": "QajYvQDb0LbG"
      }
    },
    {
      "cell_type": "code",
      "metadata": {
        "id": "P5kX7pFU0vlP"
      },
      "source": [
        "from sympy import * \n",
        "M = Matrix([[1, 2, 2,2,1], [2, 4, 6,8,5], [3, 6, 8,10,6]]) #Note: This is Augmented matrix\n",
        "M_rref = M.rref()  \n",
        "print(\"The Reduced Row echelon form of matrix M and the pivot columns : {}\".format(M_rref)) "
      ],
      "execution_count": null,
      "outputs": []
    },
    {
      "cell_type": "markdown",
      "source": [
        "**Code for computing column space and dimension of column space**"
      ],
      "metadata": {
        "id": "PkiNsJ6K0P3M"
      }
    },
    {
      "cell_type": "code",
      "metadata": {
        "id": "K4b5w2m_AqPL"
      },
      "source": [
        "from sympy import * \n",
        "M = Matrix([[1, 2, 2,2], [2, 4, 6,8], [3, 6, 8,10]])\n",
        "M_columnspace = M.columnspace()  \n",
        "print(\"Columnspace of a matrix : {}\".format(M_columnspace)) \n",
        "print(\"Dimension of column space is \",len(M_columnspace))"
      ],
      "execution_count": null,
      "outputs": []
    },
    {
      "cell_type": "markdown",
      "source": [
        "**Code for computing null space and dimension of null space**"
      ],
      "metadata": {
        "id": "Y2GYs8wc0RyE"
      }
    },
    {
      "cell_type": "code",
      "metadata": {
        "id": "JrscZDoFjHw3"
      },
      "source": [
        "from sympy import * \n",
        "M = Matrix([[1, 2, 2,2], [2, 4, 6,8], [3, 6, 8,10]])\n",
        "print(\"Matrix : {} \".format(M))\n",
        "M_nullspace = M.nullspace()      \n",
        "print(\"Nullspace of a matrix : {}\".format(M_nullspace))  \n",
        "print(\"Dimension of null space is\",len(M_nullspace))"
      ],
      "execution_count": null,
      "outputs": []
    },
    {
      "cell_type": "markdown",
      "source": [
        "**Finding solutions directly**"
      ],
      "metadata": {
        "id": "DCD5HuS_0Y5V"
      }
    },
    {
      "cell_type": "code",
      "metadata": {
        "id": "szvhexj7jsjO"
      },
      "source": [
        "from sympy import symbols, Eq, solve\n",
        "x, y,z,w = symbols('x y z w')\n",
        "eq1 = Eq(x+2*y+2*z+2*w-1 , 0)\n",
        "eq2 = Eq(2*x+4*y+6*z+8*w-5 , 0)\n",
        "eq3 = Eq(3*x+6*y+8*z+10*w-6 , 0)\n",
        "solve((eq1,eq2,eq3), (x, y,z,w))"
      ],
      "execution_count": null,
      "outputs": []
    },
    {
      "cell_type": "markdown",
      "metadata": {
        "id": "xtQuPOUU_QHK"
      },
      "source": [
        "#Related Questions (Solve if required)"
      ]
    },
    {
      "cell_type": "markdown",
      "metadata": {
        "id": "iwc26ZCd_UoR"
      },
      "source": [
        "\n",
        "\n",
        "1.   Write complete solution to \n",
        "$\\begin{bmatrix}\n",
        "1 & 2 & 2\\\\\n",
        "2 & 4 & 5\\\\\n",
        "\\end{bmatrix} \\begin{bmatrix}\n",
        "u\\\\v\\\\w\n",
        "\\end{bmatrix}=\n",
        "\\begin{bmatrix}\n",
        "1 \\\\4\n",
        "\\end{bmatrix}$\n",
        "2. Whether $v_1=(1,1,2),v_2=(1,0,1)$ and $v_3=(2,1,3)$ span the vector space $R^3$\n",
        "3. Whether the vectors $v_1=(1,2,1),v_2=(2,9,0)$ and $v_3=(3,3,4)$ form a basis for $R^3$\n",
        "4. Find a basis for solution space and dimension of solution space for the following linear system\n",
        "$$2x_1+2x_2-x_3+x_5=0$$\n",
        "$$-x_1-x_2+2x_3-3x_4+x_5=0$$\n",
        "$$x_1+x_2-2x_3-x_5=0$$\n",
        "$$x_3+x_4+x_5=0$$\n",
        "5. What will be the number of parameters in the general solution $Ax=0$ is $A$ is a $5\\times7$ matrix of rank 3 ?\n",
        "6. Without solving the system find rank, dimension of null space, dimension of column space, number of basic (leading) variables, number of free variables(parameters) for the matrix $\\begin{bmatrix}\n",
        "2 & -1 & 3\\\\\n",
        "4 & -2 & 1\\\\\n",
        "2&1&0\n",
        "\\end{bmatrix}$\n",
        "7. What is the maximum rank possibe in a $4\\times7$ matrix ?\n",
        "8. Find a basis for $R^4$ that contains the vectors $v_1=(1,0,1,0)$ and $v_2=(-1,1,-1,0)$\n",
        "\n"
      ]
    },
    {
      "cell_type": "markdown",
      "metadata": {
        "id": "Mdbes2GINRaI"
      },
      "source": [
        "https://www.wolframalpha.com/input/?i=linear+algebra+column+space  (Help to visualize (interpret) the concept)"
      ]
    },
    {
      "cell_type": "markdown",
      "source": [
        "## Computations for Question-1"
      ],
      "metadata": {
        "id": "bLMWHuHP16J1"
      }
    },
    {
      "cell_type": "code",
      "metadata": {
        "id": "1IgScD2NQzj_"
      },
      "source": [
        "from sympy import * \n",
        "M = Matrix([[1,2,3,1], [2,4,5,4]])\n",
        "M_rref = M.rref()\n",
        "print(\"The Reduced Row echelon form of matrix M and the pivot columns : {}\".format(M_rref)) "
      ],
      "execution_count": null,
      "outputs": []
    },
    {
      "cell_type": "code",
      "metadata": {
        "id": "BzYkniMQM5Vq"
      },
      "source": [
        "from sympy import symbols, Eq, solve\n",
        "u, v,w = symbols('u v w')\n",
        "eq1 = Eq(u+2*v+3*w-1 , 0)\n",
        "eq2 = Eq(2*u+4*v+5*w-4, 0)\n",
        "solve((eq1,eq2), (u, v,w))"
      ],
      "execution_count": null,
      "outputs": []
    },
    {
      "cell_type": "markdown",
      "source": [
        "## Computations for Question-2"
      ],
      "metadata": {
        "id": "7V_SrSxp2HBM"
      }
    },
    {
      "cell_type": "code",
      "metadata": {
        "id": "lFNp5_7LSm3e"
      },
      "source": [
        "from sympy import * \n",
        "M = Matrix([[1,1,2], [1,0,1],[2,1,3]])\n",
        "M_rref = M.rref()      \n",
        "print(\"The Reduced Row echelon form of matrix M and the pivot columns : {}\".format(M_rref))"
      ],
      "execution_count": null,
      "outputs": []
    },
    {
      "cell_type": "markdown",
      "source": [
        "## Computations for Question-3"
      ],
      "metadata": {
        "id": "C3N1Pav33Vzz"
      }
    },
    {
      "cell_type": "code",
      "source": [
        "from sympy import * \n",
        "M = Matrix([[1,2,3], [2,9,3],[1,0,4]])\n",
        "M_rref = M.rref()      \n",
        "print(\"The Reduced Row echelon form of matrix M and the pivot columns : {}\".format(M_rref))"
      ],
      "metadata": {
        "id": "dK1RZC6X3hks"
      },
      "execution_count": null,
      "outputs": []
    },
    {
      "cell_type": "markdown",
      "source": [
        "## Computations for Question-4"
      ],
      "metadata": {
        "id": "7Ijr9Umw4A9Q"
      }
    },
    {
      "cell_type": "code",
      "metadata": {
        "id": "spnUm7FkkEF5"
      },
      "source": [
        "from sympy import * \n",
        "M = Matrix([[2,2,-1,0,1], [-1,-1,2,-3,1],[1,1,-2,0,-1],[0,0,1,1,1]])\n",
        "M_rref = M.rref()     \n",
        "print(\"The Reduced Row echelon form of matrix M and the pivot columns : {}\".format(M_rref)) "
      ],
      "execution_count": null,
      "outputs": []
    },
    {
      "cell_type": "code",
      "source": [
        "from sympy import * \n",
        "M = Matrix([[2,2,-1,0,1], [-1,-1,2,-3,1],[1,1,-2,0,-1],[0,0,1,1,1]])\n",
        "M_nullspace = M.nullspace()      \n",
        "print(\"Nullspace of a matrix : {}\".format(M_nullspace))  \n",
        "print(\"Dimension of null space is\",len(M_nullspace))"
      ],
      "metadata": {
        "id": "-Ga_gO5I4aI4"
      },
      "execution_count": null,
      "outputs": []
    },
    {
      "cell_type": "markdown",
      "source": [
        "## Computations for Question-6"
      ],
      "metadata": {
        "id": "mYD9MJwc4Qon"
      }
    },
    {
      "cell_type": "code",
      "source": [
        "from sympy import * \n",
        "M = Matrix([[2,-1,3], [4,-2,1],[2,1,0]])\n",
        "M_rref = M.rref()      \n",
        "print(\"The Reduced Row echelon form of matrix M and the pivot columns : {}\".format(M_rref))"
      ],
      "metadata": {
        "id": "VdpH5IOv44DC"
      },
      "execution_count": null,
      "outputs": []
    },
    {
      "cell_type": "markdown",
      "source": [
        "## Computations for Question-8"
      ],
      "metadata": {
        "id": "fxNeNDHw5XTC"
      }
    },
    {
      "cell_type": "code",
      "metadata": {
        "id": "HKW0KwEN4S1B"
      },
      "source": [
        "from sympy import * \n",
        "M = Matrix([[1,-1,1,0,0,0], [0,1,0,1,0,0],[1,-1,0,0,1,0],[0,0,0,0,0,1]]) \n",
        "M_rref = M.rref()  \n",
        "print(\"The Reduced Row echelon form of matrix M and the pivot columns : {}\".format(M_rref))"
      ],
      "execution_count": null,
      "outputs": []
    },
    {
      "cell_type": "markdown",
      "metadata": {
        "id": "K94uCQVk-KMo"
      },
      "source": [
        "# Assignment-2"
      ]
    },
    {
      "cell_type": "markdown",
      "metadata": {
        "id": "EwipzyTu_MG1"
      },
      "source": [
        "## Question-1"
      ]
    },
    {
      "cell_type": "markdown",
      "metadata": {
        "id": "wHD59vz1-Pzb"
      },
      "source": [
        "Write complete solution to \n",
        "$\\begin{bmatrix}\n",
        "1 & 2 & 3\\\\\n",
        "2 & 4 & 5\\\\\n",
        "\\end{bmatrix} \\begin{bmatrix}\n",
        "u\\\\v\\\\w\n",
        "\\end{bmatrix}=\n",
        "\\begin{bmatrix}\n",
        "1 \\\\4\n",
        "\\end{bmatrix}$\n",
        "\n",
        "(Note: Detailed steps required)"
      ]
    },
    {
      "cell_type": "markdown",
      "metadata": {
        "id": "7JjZq3ml_QAy"
      },
      "source": [
        "## Question-2\n"
      ]
    },
    {
      "cell_type": "markdown",
      "metadata": {
        "id": "9CgwHME0_yJ1"
      },
      "source": [
        "Find a basis for solution space and dimension for the following linear system\n",
        "$$x_1+3x_2-2x_3+2x_5=0$$\n",
        "$$2x_1+6x_2-5x_3-2x_4+4x_5-3x_6=0$$\n",
        "$$5x_3+10x_4+15x_6=0$$\n",
        "$$2x_1+6x_2+8x_4+4x_5+18x_6=0$$\n",
        "\n",
        "(Note: Detailed steps required)"
      ]
    },
    {
      "cell_type": "markdown",
      "metadata": {
        "id": "qC5QbSbuB-dI"
      },
      "source": [
        "## Question-3"
      ]
    },
    {
      "cell_type": "markdown",
      "metadata": {
        "id": "9HKniwuHCPb2"
      },
      "source": [
        "Without solving the system find rank, dimension of null space, dimension of column space, number of basic (leading) variables, number of free variables(parameters) for the matrix $\\begin{bmatrix}\n",
        "2 & -1 & 3\\\\\n",
        "4 & -2 & 1\\\\\n",
        "2&-1&0\n",
        "\\end{bmatrix}$\n",
        "\n",
        "(Note: Detailed steps required)"
      ]
    },
    {
      "cell_type": "markdown",
      "metadata": {
        "id": "kp9BscY0EO_D"
      },
      "source": [
        "## Question-4"
      ]
    },
    {
      "cell_type": "markdown",
      "metadata": {
        "id": "iNZrodPBEPIc"
      },
      "source": [
        "Find a basis for $R^4$ that contains the vectors $v_1=(1,1,1,0)$ and $v_2=(-1,1,-1,0)$\n",
        "\n",
        "(Note: Detailed steps required)"
      ]
    },
    {
      "cell_type": "markdown",
      "metadata": {
        "id": "r2JblEzfFAt-"
      },
      "source": [
        "## Question-5"
      ]
    },
    {
      "cell_type": "markdown",
      "metadata": {
        "id": "xLl5mj3dFAwx"
      },
      "source": [
        "Whether the vectors $v_1=(1,1,2),v_2=(1,0,2)$ and $v_3=(2,1,4)$ form a basis for $R^3$\n",
        "\n",
        "(Note: Detailed steps required)"
      ]
    }
  ]
}